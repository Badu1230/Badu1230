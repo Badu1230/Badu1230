{
 "cells": [
  {
   "cell_type": "code",
   "execution_count": 1,
   "id": "34d2696b",
   "metadata": {
    "execution": {
     "iopub.execute_input": "2024-05-09T06:11:54.626091Z",
     "iopub.status.busy": "2024-05-09T06:11:54.625614Z",
     "iopub.status.idle": "2024-05-09T06:12:10.893485Z",
     "shell.execute_reply": "2024-05-09T06:12:10.891209Z"
    },
    "papermill": {
     "duration": 16.285306,
     "end_time": "2024-05-09T06:12:10.897915",
     "exception": false,
     "start_time": "2024-05-09T06:11:54.612609",
     "status": "completed"
    },
    "tags": []
   },
   "outputs": [
    {
     "name": "stdout",
     "output_type": "stream",
     "text": [
      "Requirement already satisfied: pandas in /opt/conda/lib/python3.10/site-packages (2.2.2)\r\n",
      "Requirement already satisfied: numpy>=1.22.4 in /opt/conda/lib/python3.10/site-packages (from pandas) (1.26.4)\r\n",
      "Requirement already satisfied: python-dateutil>=2.8.2 in /opt/conda/lib/python3.10/site-packages (from pandas) (2.9.0.post0)\r\n",
      "Requirement already satisfied: pytz>=2020.1 in /opt/conda/lib/python3.10/site-packages (from pandas) (2023.3.post1)\r\n",
      "Requirement already satisfied: tzdata>=2022.7 in /opt/conda/lib/python3.10/site-packages (from pandas) (2023.4)\r\n",
      "Requirement already satisfied: six>=1.5 in /opt/conda/lib/python3.10/site-packages (from python-dateutil>=2.8.2->pandas) (1.16.0)\r\n",
      "Note: you may need to restart the kernel to use updated packages.\n"
     ]
    }
   ],
   "source": [
    "pip  install pandas"
   ]
  },
  {
   "cell_type": "code",
   "execution_count": 2,
   "id": "0a5f6f18",
   "metadata": {
    "execution": {
     "iopub.execute_input": "2024-05-09T06:12:10.928394Z",
     "iopub.status.busy": "2024-05-09T06:12:10.927615Z",
     "iopub.status.idle": "2024-05-09T06:12:10.935088Z",
     "shell.execute_reply": "2024-05-09T06:12:10.933973Z"
    },
    "papermill": {
     "duration": 0.029824,
     "end_time": "2024-05-09T06:12:10.939267",
     "exception": false,
     "start_time": "2024-05-09T06:12:10.909443",
     "status": "completed"
    },
    "tags": []
   },
   "outputs": [
    {
     "name": "stdout",
     "output_type": "stream",
     "text": [
      "/kaggle/working\n"
     ]
    }
   ],
   "source": [
    "import os\n",
    "print(os.getcwd())\n"
   ]
  },
  {
   "cell_type": "code",
   "execution_count": 3,
   "id": "9d936494",
   "metadata": {
    "execution": {
     "iopub.execute_input": "2024-05-09T06:12:10.968982Z",
     "iopub.status.busy": "2024-05-09T06:12:10.968537Z",
     "iopub.status.idle": "2024-05-09T06:12:10.975168Z",
     "shell.execute_reply": "2024-05-09T06:12:10.973602Z"
    },
    "papermill": {
     "duration": 0.024801,
     "end_time": "2024-05-09T06:12:10.977743",
     "exception": false,
     "start_time": "2024-05-09T06:12:10.952942",
     "status": "completed"
    },
    "tags": []
   },
   "outputs": [
    {
     "name": "stdout",
     "output_type": "stream",
     "text": [
      "False\n"
     ]
    }
   ],
   "source": [
    "import os\n",
    "print(os.path.exists('sales-data-xlsx'))\n",
    "\n",
    "#The excel file wasn't opening. I was getting some errors.\n",
    "#Checking if the file exists: Use the os.path.exists() function to verify if the file actually exists at the specified path. \n",
    "#This will help confirm whether the issue lies in the file path or elsewhere."
   ]
  },
  {
   "cell_type": "code",
   "execution_count": 4,
   "id": "7a7db1a0",
   "metadata": {
    "execution": {
     "iopub.execute_input": "2024-05-09T06:12:11.001173Z",
     "iopub.status.busy": "2024-05-09T06:12:11.000757Z",
     "iopub.status.idle": "2024-05-09T06:12:25.772884Z",
     "shell.execute_reply": "2024-05-09T06:12:25.770914Z"
    },
    "papermill": {
     "duration": 14.786776,
     "end_time": "2024-05-09T06:12:25.775408",
     "exception": false,
     "start_time": "2024-05-09T06:12:10.988632",
     "status": "completed"
    },
    "tags": []
   },
   "outputs": [
    {
     "name": "stdout",
     "output_type": "stream",
     "text": [
      "Requirement already satisfied: openpyxl in /opt/conda/lib/python3.10/site-packages (3.1.2)\r\n",
      "Requirement already satisfied: et-xmlfile in /opt/conda/lib/python3.10/site-packages (from openpyxl) (1.1.0)\r\n",
      "Note: you may need to restart the kernel to use updated packages.\n"
     ]
    }
   ],
   "source": [
    "pip install openpyxl"
   ]
  },
  {
   "cell_type": "markdown",
   "id": "161a6396",
   "metadata": {
    "papermill": {
     "duration": 0.010313,
     "end_time": "2024-05-09T06:12:25.796539",
     "exception": false,
     "start_time": "2024-05-09T06:12:25.786226",
     "status": "completed"
    },
    "tags": []
   },
   "source": [
    "The error indicated that the openpyxl module was not found, which is required by pandas to read Excel files. \n",
    "This happens because openpyxl is an optional dependency of pandas for working with Excel files.\n",
    "After installing openpyxl, tried to run the code again, and it should work without errors."
   ]
  },
  {
   "cell_type": "code",
   "execution_count": 5,
   "id": "306ea5e6",
   "metadata": {
    "execution": {
     "iopub.execute_input": "2024-05-09T06:12:25.820437Z",
     "iopub.status.busy": "2024-05-09T06:12:25.819675Z",
     "iopub.status.idle": "2024-05-09T06:12:27.469668Z",
     "shell.execute_reply": "2024-05-09T06:12:27.468170Z"
    },
    "papermill": {
     "duration": 1.665179,
     "end_time": "2024-05-09T06:12:27.472496",
     "exception": false,
     "start_time": "2024-05-09T06:12:25.807317",
     "status": "completed"
    },
    "tags": []
   },
   "outputs": [
    {
     "name": "stdout",
     "output_type": "stream",
     "text": [
      "    country  order_value_EUR       cost                 date     category  \\\n",
      "0    Sweden         98320.37   77722.25            8/23/2020        Games   \n",
      "1    France         46296.26   40319.41            5/15/2020        Games   \n",
      "2  Portugal        140337.34  115708.14  2020-04-09 00:00:00   Appliances   \n",
      "3    France        203604.46  175344.16            6/26/2019  Electronics   \n",
      "4        UK         63979.04   56032.84           10/22/2019        Games   \n",
      "\n",
      "     customer_name    sales_manager            sales_rep device_type  \\\n",
      "0   Konopelski LLC     Maxie Marrow   Tarrah Castelletti      Tablet   \n",
      "1       Wisoky Inc    Othello Bowes  Amelina Piscopiello      Tablet   \n",
      "2    Hegmann Group  Celine Tumasian        Corene Shirer          PC   \n",
      "3  Kirlin and Sons    Othello Bowes         Crysta Halls      Mobile   \n",
      "4   Schoen-Keeling  Jessamine Apark   Genevra Charrisson          PC   \n",
      "\n",
      "     order_id  \n",
      "0  70-0511466  \n",
      "1  77-3489084  \n",
      "2  65-8218141  \n",
      "3  29-5478106  \n",
      "4  27-3437546  \n"
     ]
    }
   ],
   "source": [
    "import pandas as pd\n",
    "\n",
    "# Carregar o arquivo Excel em um DataFrame pandas\n",
    "df = pd.read_excel('/kaggle/input/sales-data-xlsx/sales data.xlsx')\n",
    "\n",
    "# Exibir as primeiras linhas do DataFrame\n",
    "print(df.head())"
   ]
  },
  {
   "cell_type": "code",
   "execution_count": 6,
   "id": "138b0c5b",
   "metadata": {
    "execution": {
     "iopub.execute_input": "2024-05-09T06:12:27.497212Z",
     "iopub.status.busy": "2024-05-09T06:12:27.496635Z",
     "iopub.status.idle": "2024-05-09T06:12:27.813151Z",
     "shell.execute_reply": "2024-05-09T06:12:27.812173Z"
    },
    "papermill": {
     "duration": 0.330854,
     "end_time": "2024-05-09T06:12:27.815350",
     "exception": false,
     "start_time": "2024-05-09T06:12:27.484496",
     "status": "completed"
    },
    "tags": []
   },
   "outputs": [
    {
     "data": {
      "text/html": [
       "<div>\n",
       "<style scoped>\n",
       "    .dataframe tbody tr th:only-of-type {\n",
       "        vertical-align: middle;\n",
       "    }\n",
       "\n",
       "    .dataframe tbody tr th {\n",
       "        vertical-align: top;\n",
       "    }\n",
       "\n",
       "    .dataframe thead th {\n",
       "        text-align: right;\n",
       "    }\n",
       "</style>\n",
       "<table border=\"1\" class=\"dataframe\">\n",
       "  <thead>\n",
       "    <tr style=\"text-align: right;\">\n",
       "      <th></th>\n",
       "      <th>country</th>\n",
       "      <th>order_value_EUR</th>\n",
       "      <th>cost</th>\n",
       "      <th>date</th>\n",
       "      <th>category</th>\n",
       "      <th>customer_name</th>\n",
       "      <th>sales_manager</th>\n",
       "      <th>sales_rep</th>\n",
       "      <th>device_type</th>\n",
       "      <th>order_id</th>\n",
       "    </tr>\n",
       "  </thead>\n",
       "  <tbody>\n",
       "    <tr>\n",
       "      <th>0</th>\n",
       "      <td>Sweden</td>\n",
       "      <td>98320.37</td>\n",
       "      <td>77722.25</td>\n",
       "      <td>8/23/2020</td>\n",
       "      <td>Games</td>\n",
       "      <td>Konopelski LLC</td>\n",
       "      <td>Maxie Marrow</td>\n",
       "      <td>Tarrah Castelletti</td>\n",
       "      <td>Tablet</td>\n",
       "      <td>70-0511466</td>\n",
       "    </tr>\n",
       "    <tr>\n",
       "      <th>1</th>\n",
       "      <td>France</td>\n",
       "      <td>46296.26</td>\n",
       "      <td>40319.41</td>\n",
       "      <td>5/15/2020</td>\n",
       "      <td>Games</td>\n",
       "      <td>Wisoky Inc</td>\n",
       "      <td>Othello Bowes</td>\n",
       "      <td>Amelina Piscopiello</td>\n",
       "      <td>Tablet</td>\n",
       "      <td>77-3489084</td>\n",
       "    </tr>\n",
       "    <tr>\n",
       "      <th>2</th>\n",
       "      <td>Portugal</td>\n",
       "      <td>140337.34</td>\n",
       "      <td>115708.14</td>\n",
       "      <td>2020-04-09 00:00:00</td>\n",
       "      <td>Appliances</td>\n",
       "      <td>Hegmann Group</td>\n",
       "      <td>Celine Tumasian</td>\n",
       "      <td>Corene Shirer</td>\n",
       "      <td>PC</td>\n",
       "      <td>65-8218141</td>\n",
       "    </tr>\n",
       "    <tr>\n",
       "      <th>3</th>\n",
       "      <td>France</td>\n",
       "      <td>203604.46</td>\n",
       "      <td>175344.16</td>\n",
       "      <td>6/26/2019</td>\n",
       "      <td>Electronics</td>\n",
       "      <td>Kirlin and Sons</td>\n",
       "      <td>Othello Bowes</td>\n",
       "      <td>Crysta Halls</td>\n",
       "      <td>Mobile</td>\n",
       "      <td>29-5478106</td>\n",
       "    </tr>\n",
       "    <tr>\n",
       "      <th>4</th>\n",
       "      <td>UK</td>\n",
       "      <td>63979.04</td>\n",
       "      <td>56032.84</td>\n",
       "      <td>10/22/2019</td>\n",
       "      <td>Games</td>\n",
       "      <td>Schoen-Keeling</td>\n",
       "      <td>Jessamine Apark</td>\n",
       "      <td>Genevra Charrisson</td>\n",
       "      <td>PC</td>\n",
       "      <td>27-3437546</td>\n",
       "    </tr>\n",
       "  </tbody>\n",
       "</table>\n",
       "</div>"
      ],
      "text/plain": [
       "    country  order_value_EUR       cost                 date     category  \\\n",
       "0    Sweden         98320.37   77722.25            8/23/2020        Games   \n",
       "1    France         46296.26   40319.41            5/15/2020        Games   \n",
       "2  Portugal        140337.34  115708.14  2020-04-09 00:00:00   Appliances   \n",
       "3    France        203604.46  175344.16            6/26/2019  Electronics   \n",
       "4        UK         63979.04   56032.84           10/22/2019        Games   \n",
       "\n",
       "     customer_name    sales_manager            sales_rep device_type  \\\n",
       "0   Konopelski LLC     Maxie Marrow   Tarrah Castelletti      Tablet   \n",
       "1       Wisoky Inc    Othello Bowes  Amelina Piscopiello      Tablet   \n",
       "2    Hegmann Group  Celine Tumasian        Corene Shirer          PC   \n",
       "3  Kirlin and Sons    Othello Bowes         Crysta Halls      Mobile   \n",
       "4   Schoen-Keeling  Jessamine Apark   Genevra Charrisson          PC   \n",
       "\n",
       "     order_id  \n",
       "0  70-0511466  \n",
       "1  77-3489084  \n",
       "2  65-8218141  \n",
       "3  29-5478106  \n",
       "4  27-3437546  "
      ]
     },
     "execution_count": 6,
     "metadata": {},
     "output_type": "execute_result"
    }
   ],
   "source": [
    "import pandas as pd\n",
    "\n",
    "#I'll add my excel file \n",
    "excel_file = '/kaggle/input/sales-data-xlsx/sales data.xlsx'\n",
    "\n",
    "# Load the Excel file into a pandas DataFrame\n",
    "df = pd.read_excel(excel_file)\n",
    "\n",
    "# Display the first 5 rows of the DataFrame\n",
    "df.head() \n"
   ]
  },
  {
   "cell_type": "code",
   "execution_count": 7,
   "id": "78322454",
   "metadata": {
    "execution": {
     "iopub.execute_input": "2024-05-09T06:12:27.840294Z",
     "iopub.status.busy": "2024-05-09T06:12:27.839287Z",
     "iopub.status.idle": "2024-05-09T06:12:27.849027Z",
     "shell.execute_reply": "2024-05-09T06:12:27.847545Z"
    },
    "papermill": {
     "duration": 0.02507,
     "end_time": "2024-05-09T06:12:27.851778",
     "exception": false,
     "start_time": "2024-05-09T06:12:27.826708",
     "status": "completed"
    },
    "tags": []
   },
   "outputs": [
    {
     "name": "stdout",
     "output_type": "stream",
     "text": [
      "Missing values in the dataset:\n",
      "country            0\n",
      "order_value_EUR    5\n",
      "cost               0\n",
      "date               0\n",
      "category           0\n",
      "customer_name      0\n",
      "sales_manager      0\n",
      "sales_rep          0\n",
      "device_type        5\n",
      "order_id           0\n",
      "dtype: int64\n"
     ]
    }
   ],
   "source": [
    "# Check for missing values in the entire DataFrame\n",
    "missing_values = df.isnull().sum()\n",
    "\n",
    "# Print the count of missing values for each column\n",
    "print(\"Missing values in the dataset:\")\n",
    "print(missing_values)"
   ]
  },
  {
   "cell_type": "markdown",
   "id": "ce35a623",
   "metadata": {
    "papermill": {
     "duration": 0.011141,
     "end_time": "2024-05-09T06:12:27.874463",
     "exception": false,
     "start_time": "2024-05-09T06:12:27.863322",
     "status": "completed"
    },
    "tags": []
   },
   "source": [
    "I will use the SimpleImputer class from the sklearn.impute module to impute missing values in a dataset."
   ]
  },
  {
   "cell_type": "code",
   "execution_count": 8,
   "id": "69927175",
   "metadata": {
    "execution": {
     "iopub.execute_input": "2024-05-09T06:12:27.899740Z",
     "iopub.status.busy": "2024-05-09T06:12:27.899341Z",
     "iopub.status.idle": "2024-05-09T06:12:42.665367Z",
     "shell.execute_reply": "2024-05-09T06:12:42.663868Z"
    },
    "papermill": {
     "duration": 14.781827,
     "end_time": "2024-05-09T06:12:42.668214",
     "exception": false,
     "start_time": "2024-05-09T06:12:27.886387",
     "status": "completed"
    },
    "tags": []
   },
   "outputs": [
    {
     "name": "stdout",
     "output_type": "stream",
     "text": [
      "Requirement already satisfied: scikit-learn in /opt/conda/lib/python3.10/site-packages (1.2.2)\r\n",
      "Requirement already satisfied: numpy>=1.17.3 in /opt/conda/lib/python3.10/site-packages (from scikit-learn) (1.26.4)\r\n",
      "Requirement already satisfied: scipy>=1.3.2 in /opt/conda/lib/python3.10/site-packages (from scikit-learn) (1.11.4)\r\n",
      "Requirement already satisfied: joblib>=1.1.1 in /opt/conda/lib/python3.10/site-packages (from scikit-learn) (1.4.0)\r\n",
      "Requirement already satisfied: threadpoolctl>=2.0.0 in /opt/conda/lib/python3.10/site-packages (from scikit-learn) (3.2.0)\r\n",
      "Note: you may need to restart the kernel to use updated packages.\n"
     ]
    }
   ],
   "source": [
    "pip install scikit-learn"
   ]
  },
  {
   "cell_type": "code",
   "execution_count": 9,
   "id": "829074cf",
   "metadata": {
    "execution": {
     "iopub.execute_input": "2024-05-09T06:12:42.694209Z",
     "iopub.status.busy": "2024-05-09T06:12:42.693741Z",
     "iopub.status.idle": "2024-05-09T06:12:44.200186Z",
     "shell.execute_reply": "2024-05-09T06:12:44.199086Z"
    },
    "papermill": {
     "duration": 1.522722,
     "end_time": "2024-05-09T06:12:44.202978",
     "exception": false,
     "start_time": "2024-05-09T06:12:42.680256",
     "status": "completed"
    },
    "tags": []
   },
   "outputs": [],
   "source": [
    "from sklearn.impute import SimpleImputer"
   ]
  },
  {
   "cell_type": "code",
   "execution_count": 10,
   "id": "f073ad60",
   "metadata": {
    "execution": {
     "iopub.execute_input": "2024-05-09T06:12:44.229057Z",
     "iopub.status.busy": "2024-05-09T06:12:44.228635Z",
     "iopub.status.idle": "2024-05-09T06:12:44.245305Z",
     "shell.execute_reply": "2024-05-09T06:12:44.244181Z"
    },
    "papermill": {
     "duration": 0.032365,
     "end_time": "2024-05-09T06:12:44.248004",
     "exception": false,
     "start_time": "2024-05-09T06:12:44.215639",
     "status": "completed"
    },
    "tags": []
   },
   "outputs": [],
   "source": [
    "target_column = \"order_value_EUR\"\n",
    "\n",
    "#Creating a SimpleImputer instance to impute missing values with a strategy, (e.g., \"mean\", \"median\", \"most_frequent\").\n",
    "#Others strategies include \"constant\" to replace missing values with a constant value\n",
    "\n",
    "imputer = SimpleImputer(strategy='median')\n",
    "\n",
    "#Fit the imputer on the selected column and transform it to impute missing values\n",
    "df[target_column] = imputer.fit_transform(df[[target_column]])\n"
   ]
  },
  {
   "cell_type": "markdown",
   "id": "a00375bf",
   "metadata": {
    "papermill": {
     "duration": 0.011191,
     "end_time": "2024-05-09T06:12:44.270938",
     "exception": false,
     "start_time": "2024-05-09T06:12:44.259747",
     "status": "completed"
    },
    "tags": []
   },
   "source": [
    "When we use df[[target_column]], we are passing a list of a single column to the fit_transform() method, which is necessary to ensure that the imputer works correctly. If we used just df[target_column], we would be passing a Series, which would result in an error."
   ]
  },
  {
   "cell_type": "code",
   "execution_count": 11,
   "id": "b7d8c34a",
   "metadata": {
    "execution": {
     "iopub.execute_input": "2024-05-09T06:12:44.296538Z",
     "iopub.status.busy": "2024-05-09T06:12:44.295736Z",
     "iopub.status.idle": "2024-05-09T06:12:44.306190Z",
     "shell.execute_reply": "2024-05-09T06:12:44.305041Z"
    },
    "papermill": {
     "duration": 0.02614,
     "end_time": "2024-05-09T06:12:44.308504",
     "exception": false,
     "start_time": "2024-05-09T06:12:44.282364",
     "status": "completed"
    },
    "tags": []
   },
   "outputs": [
    {
     "data": {
      "text/plain": [
       "country            0\n",
       "order_value_EUR    0\n",
       "cost               0\n",
       "date               0\n",
       "category           0\n",
       "customer_name      0\n",
       "sales_manager      0\n",
       "sales_rep          0\n",
       "device_type        5\n",
       "order_id           0\n",
       "dtype: int64"
      ]
     },
     "execution_count": 11,
     "metadata": {},
     "output_type": "execute_result"
    }
   ],
   "source": [
    "df.isnull().sum()"
   ]
  },
  {
   "cell_type": "markdown",
   "id": "a571ae98",
   "metadata": {
    "papermill": {
     "duration": 0.011298,
     "end_time": "2024-05-09T06:12:44.331474",
     "exception": false,
     "start_time": "2024-05-09T06:12:44.320176",
     "status": "completed"
    },
    "tags": []
   },
   "source": [
    "The variable order_value_EUR there isn't no missing value right now."
   ]
  },
  {
   "cell_type": "code",
   "execution_count": 12,
   "id": "ee6a4227",
   "metadata": {
    "execution": {
     "iopub.execute_input": "2024-05-09T06:12:44.357305Z",
     "iopub.status.busy": "2024-05-09T06:12:44.356199Z",
     "iopub.status.idle": "2024-05-09T06:12:44.365666Z",
     "shell.execute_reply": "2024-05-09T06:12:44.364440Z"
    },
    "papermill": {
     "duration": 0.024924,
     "end_time": "2024-05-09T06:12:44.368141",
     "exception": false,
     "start_time": "2024-05-09T06:12:44.343217",
     "status": "completed"
    },
    "tags": []
   },
   "outputs": [
    {
     "data": {
      "text/plain": [
       "0       Tablet\n",
       "1       Tablet\n",
       "2           PC\n",
       "3       Mobile\n",
       "4           PC\n",
       "         ...  \n",
       "996         PC\n",
       "997     Tablet\n",
       "998     Tablet\n",
       "999         PC\n",
       "1000        PC\n",
       "Name: device_type, Length: 1001, dtype: object"
      ]
     },
     "execution_count": 12,
     "metadata": {},
     "output_type": "execute_result"
    }
   ],
   "source": [
    "df.device_type  "
   ]
  },
  {
   "cell_type": "code",
   "execution_count": 13,
   "id": "0316c40f",
   "metadata": {
    "execution": {
     "iopub.execute_input": "2024-05-09T06:12:44.394427Z",
     "iopub.status.busy": "2024-05-09T06:12:44.393153Z",
     "iopub.status.idle": "2024-05-09T06:12:44.403039Z",
     "shell.execute_reply": "2024-05-09T06:12:44.402141Z"
    },
    "papermill": {
     "duration": 0.025655,
     "end_time": "2024-05-09T06:12:44.405616",
     "exception": false,
     "start_time": "2024-05-09T06:12:44.379961",
     "status": "completed"
    },
    "tags": []
   },
   "outputs": [],
   "source": [
    "# Check for missing values in the 'device_type' column\n",
    "missing_values = df['device_type'].isnull().sum()\n",
    "# If there are missing values, replace them with the most frequent category\n",
    "if missing_values > 0:\n",
    "    most_frequent_category = df['device_type'].mode()[0]\n",
    "    df['device_type'].fillna(most_frequent_category, inplace=True)"
   ]
  },
  {
   "cell_type": "code",
   "execution_count": 14,
   "id": "edef9933",
   "metadata": {
    "execution": {
     "iopub.execute_input": "2024-05-09T06:12:44.431457Z",
     "iopub.status.busy": "2024-05-09T06:12:44.430410Z",
     "iopub.status.idle": "2024-05-09T06:12:44.440812Z",
     "shell.execute_reply": "2024-05-09T06:12:44.439727Z"
    },
    "papermill": {
     "duration": 0.025944,
     "end_time": "2024-05-09T06:12:44.443340",
     "exception": false,
     "start_time": "2024-05-09T06:12:44.417396",
     "status": "completed"
    },
    "tags": []
   },
   "outputs": [
    {
     "data": {
      "text/plain": [
       "country            0\n",
       "order_value_EUR    0\n",
       "cost               0\n",
       "date               0\n",
       "category           0\n",
       "customer_name      0\n",
       "sales_manager      0\n",
       "sales_rep          0\n",
       "device_type        0\n",
       "order_id           0\n",
       "dtype: int64"
      ]
     },
     "execution_count": 14,
     "metadata": {},
     "output_type": "execute_result"
    }
   ],
   "source": [
    "df.isnull().sum()"
   ]
  },
  {
   "cell_type": "markdown",
   "id": "43ae3da5",
   "metadata": {
    "papermill": {
     "duration": 0.011587,
     "end_time": "2024-05-09T06:12:44.467201",
     "exception": false,
     "start_time": "2024-05-09T06:12:44.455614",
     "status": "completed"
    },
    "tags": []
   },
   "source": [
    "If missing_values > 0:: This line checks if there are missing values in the 'device_type' column. If missing_values is greater than 0, it means there are missing values, and the code inside the if block will be executed.\n",
    "\n",
    "most_frequent_category = df['device_type'].mode()[0]: This line calculates the most frequent category in the 'device_type' column. The mode() method returns a Series containing the mode(s) of the column, and [0] is used to get the first value of the series, which is the most frequent mode.\n",
    "\n",
    "df['device_type'].fillna(most_frequent_category, inplace=True): This line replaces the missing values in the 'device_type' column with the previously calculated most frequent category. The fillna() method is used to fill the missing values with the specified value (in this case, most_frequent_category). The parameter inplace=True indicates that the changes should be made directly to the DataFrame df, without needing to assign the result back to df.\n",
    "\n",
    "In summary, this code checks if there are missing values in the 'device_type' column, calculates the most frequent category, and if there are missing values, it replaces them with the most frequent category. This is useful for handling missing values in categorical columns."
   ]
  },
  {
   "cell_type": "code",
   "execution_count": 15,
   "id": "cb475c26",
   "metadata": {
    "execution": {
     "iopub.execute_input": "2024-05-09T06:12:44.494088Z",
     "iopub.status.busy": "2024-05-09T06:12:44.493258Z",
     "iopub.status.idle": "2024-05-09T06:12:44.501664Z",
     "shell.execute_reply": "2024-05-09T06:12:44.500580Z"
    },
    "papermill": {
     "duration": 0.024924,
     "end_time": "2024-05-09T06:12:44.503893",
     "exception": false,
     "start_time": "2024-05-09T06:12:44.478969",
     "status": "completed"
    },
    "tags": []
   },
   "outputs": [
    {
     "data": {
      "text/plain": [
       "country             object\n",
       "order_value_EUR    float64\n",
       "cost                object\n",
       "date                object\n",
       "category            object\n",
       "customer_name       object\n",
       "sales_manager       object\n",
       "sales_rep           object\n",
       "device_type         object\n",
       "order_id            object\n",
       "dtype: object"
      ]
     },
     "execution_count": 15,
     "metadata": {},
     "output_type": "execute_result"
    }
   ],
   "source": [
    "df.dtypes"
   ]
  },
  {
   "cell_type": "code",
   "execution_count": 16,
   "id": "9dc8f377",
   "metadata": {
    "execution": {
     "iopub.execute_input": "2024-05-09T06:12:44.530887Z",
     "iopub.status.busy": "2024-05-09T06:12:44.529709Z",
     "iopub.status.idle": "2024-05-09T06:12:44.538463Z",
     "shell.execute_reply": "2024-05-09T06:12:44.537262Z"
    },
    "papermill": {
     "duration": 0.024851,
     "end_time": "2024-05-09T06:12:44.540884",
     "exception": false,
     "start_time": "2024-05-09T06:12:44.516033",
     "status": "completed"
    },
    "tags": []
   },
   "outputs": [
    {
     "name": "stdout",
     "output_type": "stream",
     "text": [
      "Non-Numeric Values:\n",
      "['XXX']\n"
     ]
    }
   ],
   "source": [
    "# Sample variable containing mixed data\n",
    "mixed_data = df['cost']\n",
    "\n",
    "#Create an empty list to store non-numeric values\n",
    "non_numeric_values = []\n",
    "\n",
    "# Iterate through the elements in the variable\n",
    "for value in mixed_data:\n",
    "    if isinstance(value, str) and not value.isnumeric():\n",
    "        non_numeric_values.append(value)\n",
    "\n",
    "# Print the non-numeric values:\n",
    "print(\"Non-Numeric Values:\")\n",
    "print(non_numeric_values)\n",
    "        "
   ]
  },
  {
   "cell_type": "code",
   "execution_count": 17,
   "id": "0d4e790d",
   "metadata": {
    "execution": {
     "iopub.execute_input": "2024-05-09T06:12:44.566957Z",
     "iopub.status.busy": "2024-05-09T06:12:44.566538Z",
     "iopub.status.idle": "2024-05-09T06:12:44.574738Z",
     "shell.execute_reply": "2024-05-09T06:12:44.573604Z"
    },
    "papermill": {
     "duration": 0.024234,
     "end_time": "2024-05-09T06:12:44.577287",
     "exception": false,
     "start_time": "2024-05-09T06:12:44.553053",
     "status": "completed"
    },
    "tags": []
   },
   "outputs": [],
   "source": [
    "mask = (df['cost'] == 'XXX')\n",
    "\n",
    "# Remove rows that match the mask\n",
    "df = df[~mask]"
   ]
  },
  {
   "cell_type": "code",
   "execution_count": 18,
   "id": "67371ef7",
   "metadata": {
    "execution": {
     "iopub.execute_input": "2024-05-09T06:12:44.604116Z",
     "iopub.status.busy": "2024-05-09T06:12:44.603683Z",
     "iopub.status.idle": "2024-05-09T06:12:44.612624Z",
     "shell.execute_reply": "2024-05-09T06:12:44.611396Z"
    },
    "papermill": {
     "duration": 0.025373,
     "end_time": "2024-05-09T06:12:44.615169",
     "exception": false,
     "start_time": "2024-05-09T06:12:44.589796",
     "status": "completed"
    },
    "tags": []
   },
   "outputs": [
    {
     "name": "stdout",
     "output_type": "stream",
     "text": [
      "country             object\n",
      "order_value_EUR    float64\n",
      "cost                object\n",
      "date                object\n",
      "category            object\n",
      "customer_name       object\n",
      "sales_manager       object\n",
      "sales_rep           object\n",
      "device_type         object\n",
      "order_id            object\n",
      "dtype: object\n"
     ]
    }
   ],
   "source": [
    "df.loc[:, 'cost'] = df['cost'].astype(float)\n",
    "\n",
    "\n",
    "# Print the Dataframe with the corrected data type\n",
    "print(df.dtypes)"
   ]
  },
  {
   "cell_type": "code",
   "execution_count": 19,
   "id": "59d01c3c",
   "metadata": {
    "execution": {
     "iopub.execute_input": "2024-05-09T06:12:44.641903Z",
     "iopub.status.busy": "2024-05-09T06:12:44.641426Z",
     "iopub.status.idle": "2024-05-09T06:12:44.650303Z",
     "shell.execute_reply": "2024-05-09T06:12:44.648922Z"
    },
    "papermill": {
     "duration": 0.025342,
     "end_time": "2024-05-09T06:12:44.652932",
     "exception": false,
     "start_time": "2024-05-09T06:12:44.627590",
     "status": "completed"
    },
    "tags": []
   },
   "outputs": [],
   "source": [
    "df['date'] = df['date'].astype('datetime64[ns]')"
   ]
  },
  {
   "cell_type": "code",
   "execution_count": 20,
   "id": "1efaabe8",
   "metadata": {
    "execution": {
     "iopub.execute_input": "2024-05-09T06:12:44.680237Z",
     "iopub.status.busy": "2024-05-09T06:12:44.679850Z",
     "iopub.status.idle": "2024-05-09T06:12:44.688622Z",
     "shell.execute_reply": "2024-05-09T06:12:44.687518Z"
    },
    "papermill": {
     "duration": 0.025276,
     "end_time": "2024-05-09T06:12:44.691056",
     "exception": false,
     "start_time": "2024-05-09T06:12:44.665780",
     "status": "completed"
    },
    "tags": []
   },
   "outputs": [
    {
     "data": {
      "text/plain": [
       "country                    object\n",
       "order_value_EUR           float64\n",
       "cost                       object\n",
       "date               datetime64[ns]\n",
       "category                   object\n",
       "customer_name              object\n",
       "sales_manager              object\n",
       "sales_rep                  object\n",
       "device_type                object\n",
       "order_id                   object\n",
       "dtype: object"
      ]
     },
     "execution_count": 20,
     "metadata": {},
     "output_type": "execute_result"
    }
   ],
   "source": [
    "df.dtypes"
   ]
  },
  {
   "cell_type": "code",
   "execution_count": 21,
   "id": "22d69753",
   "metadata": {
    "execution": {
     "iopub.execute_input": "2024-05-09T06:12:44.718371Z",
     "iopub.status.busy": "2024-05-09T06:12:44.717958Z",
     "iopub.status.idle": "2024-05-09T06:12:44.736288Z",
     "shell.execute_reply": "2024-05-09T06:12:44.734968Z"
    },
    "papermill": {
     "duration": 0.03492,
     "end_time": "2024-05-09T06:12:44.738688",
     "exception": false,
     "start_time": "2024-05-09T06:12:44.703768",
     "status": "completed"
    },
    "tags": []
   },
   "outputs": [
    {
     "data": {
      "text/html": [
       "<div>\n",
       "<style scoped>\n",
       "    .dataframe tbody tr th:only-of-type {\n",
       "        vertical-align: middle;\n",
       "    }\n",
       "\n",
       "    .dataframe tbody tr th {\n",
       "        vertical-align: top;\n",
       "    }\n",
       "\n",
       "    .dataframe thead th {\n",
       "        text-align: right;\n",
       "    }\n",
       "</style>\n",
       "<table border=\"1\" class=\"dataframe\">\n",
       "  <thead>\n",
       "    <tr style=\"text-align: right;\">\n",
       "      <th></th>\n",
       "      <th>country</th>\n",
       "      <th>order_value_EUR</th>\n",
       "      <th>cost</th>\n",
       "      <th>date</th>\n",
       "      <th>category</th>\n",
       "      <th>customer_name</th>\n",
       "      <th>sales_manager</th>\n",
       "      <th>sales_rep</th>\n",
       "      <th>device_type</th>\n",
       "      <th>order_id</th>\n",
       "    </tr>\n",
       "  </thead>\n",
       "  <tbody>\n",
       "    <tr>\n",
       "      <th>0</th>\n",
       "      <td>Sweden</td>\n",
       "      <td>98320.37</td>\n",
       "      <td>77722.25</td>\n",
       "      <td>2020-08-23</td>\n",
       "      <td>Games</td>\n",
       "      <td>Konopelski LLC</td>\n",
       "      <td>Maxie Marrow</td>\n",
       "      <td>Tarrah Castelletti</td>\n",
       "      <td>Tablet</td>\n",
       "      <td>70-0511466</td>\n",
       "    </tr>\n",
       "    <tr>\n",
       "      <th>1</th>\n",
       "      <td>France</td>\n",
       "      <td>46296.26</td>\n",
       "      <td>40319.41</td>\n",
       "      <td>2020-05-15</td>\n",
       "      <td>Games</td>\n",
       "      <td>Wisoky Inc</td>\n",
       "      <td>Othello Bowes</td>\n",
       "      <td>Amelina Piscopiello</td>\n",
       "      <td>Tablet</td>\n",
       "      <td>77-3489084</td>\n",
       "    </tr>\n",
       "    <tr>\n",
       "      <th>2</th>\n",
       "      <td>Portugal</td>\n",
       "      <td>140337.34</td>\n",
       "      <td>115708.14</td>\n",
       "      <td>2020-04-09</td>\n",
       "      <td>Appliances</td>\n",
       "      <td>Hegmann Group</td>\n",
       "      <td>Celine Tumasian</td>\n",
       "      <td>Corene Shirer</td>\n",
       "      <td>PC</td>\n",
       "      <td>65-8218141</td>\n",
       "    </tr>\n",
       "    <tr>\n",
       "      <th>3</th>\n",
       "      <td>France</td>\n",
       "      <td>203604.46</td>\n",
       "      <td>175344.16</td>\n",
       "      <td>2019-06-26</td>\n",
       "      <td>Electronics</td>\n",
       "      <td>Kirlin and Sons</td>\n",
       "      <td>Othello Bowes</td>\n",
       "      <td>Crysta Halls</td>\n",
       "      <td>Mobile</td>\n",
       "      <td>29-5478106</td>\n",
       "    </tr>\n",
       "    <tr>\n",
       "      <th>4</th>\n",
       "      <td>UK</td>\n",
       "      <td>63979.04</td>\n",
       "      <td>56032.84</td>\n",
       "      <td>2019-10-22</td>\n",
       "      <td>Games</td>\n",
       "      <td>Schoen-Keeling</td>\n",
       "      <td>Jessamine Apark</td>\n",
       "      <td>Genevra Charrisson</td>\n",
       "      <td>PC</td>\n",
       "      <td>27-3437546</td>\n",
       "    </tr>\n",
       "  </tbody>\n",
       "</table>\n",
       "</div>"
      ],
      "text/plain": [
       "    country  order_value_EUR       cost       date     category  \\\n",
       "0    Sweden         98320.37   77722.25 2020-08-23        Games   \n",
       "1    France         46296.26   40319.41 2020-05-15        Games   \n",
       "2  Portugal        140337.34  115708.14 2020-04-09   Appliances   \n",
       "3    France        203604.46  175344.16 2019-06-26  Electronics   \n",
       "4        UK         63979.04   56032.84 2019-10-22        Games   \n",
       "\n",
       "     customer_name    sales_manager            sales_rep device_type  \\\n",
       "0   Konopelski LLC     Maxie Marrow   Tarrah Castelletti      Tablet   \n",
       "1       Wisoky Inc    Othello Bowes  Amelina Piscopiello      Tablet   \n",
       "2    Hegmann Group  Celine Tumasian        Corene Shirer          PC   \n",
       "3  Kirlin and Sons    Othello Bowes         Crysta Halls      Mobile   \n",
       "4   Schoen-Keeling  Jessamine Apark   Genevra Charrisson          PC   \n",
       "\n",
       "     order_id  \n",
       "0  70-0511466  \n",
       "1  77-3489084  \n",
       "2  65-8218141  \n",
       "3  29-5478106  \n",
       "4  27-3437546  "
      ]
     },
     "execution_count": 21,
     "metadata": {},
     "output_type": "execute_result"
    }
   ],
   "source": [
    "df.head()"
   ]
  },
  {
   "cell_type": "code",
   "execution_count": 22,
   "id": "87b546db",
   "metadata": {
    "execution": {
     "iopub.execute_input": "2024-05-09T06:12:44.766466Z",
     "iopub.status.busy": "2024-05-09T06:12:44.766063Z",
     "iopub.status.idle": "2024-05-09T06:12:44.789148Z",
     "shell.execute_reply": "2024-05-09T06:12:44.788100Z"
    },
    "papermill": {
     "duration": 0.039997,
     "end_time": "2024-05-09T06:12:44.791658",
     "exception": false,
     "start_time": "2024-05-09T06:12:44.751661",
     "status": "completed"
    },
    "tags": []
   },
   "outputs": [
    {
     "name": "stdout",
     "output_type": "stream",
     "text": [
      "Duplicates Rows:\n"
     ]
    },
    {
     "data": {
      "text/html": [
       "<div>\n",
       "<style scoped>\n",
       "    .dataframe tbody tr th:only-of-type {\n",
       "        vertical-align: middle;\n",
       "    }\n",
       "\n",
       "    .dataframe tbody tr th {\n",
       "        vertical-align: top;\n",
       "    }\n",
       "\n",
       "    .dataframe thead th {\n",
       "        text-align: right;\n",
       "    }\n",
       "</style>\n",
       "<table border=\"1\" class=\"dataframe\">\n",
       "  <thead>\n",
       "    <tr style=\"text-align: right;\">\n",
       "      <th></th>\n",
       "      <th>country</th>\n",
       "      <th>order_value_EUR</th>\n",
       "      <th>cost</th>\n",
       "      <th>date</th>\n",
       "      <th>category</th>\n",
       "      <th>customer_name</th>\n",
       "      <th>sales_manager</th>\n",
       "      <th>sales_rep</th>\n",
       "      <th>device_type</th>\n",
       "      <th>order_id</th>\n",
       "    </tr>\n",
       "  </thead>\n",
       "  <tbody>\n",
       "    <tr>\n",
       "      <th>23</th>\n",
       "      <td>UK</td>\n",
       "      <td>63979.04</td>\n",
       "      <td>56032.84</td>\n",
       "      <td>2019-10-22</td>\n",
       "      <td>Games</td>\n",
       "      <td>Schoen-Keeling</td>\n",
       "      <td>Jessamine Apark</td>\n",
       "      <td>Genevra Charrisson</td>\n",
       "      <td>PC</td>\n",
       "      <td>27-3437546</td>\n",
       "    </tr>\n",
       "  </tbody>\n",
       "</table>\n",
       "</div>"
      ],
      "text/plain": [
       "   country  order_value_EUR      cost       date category   customer_name  \\\n",
       "23      UK         63979.04  56032.84 2019-10-22    Games  Schoen-Keeling   \n",
       "\n",
       "      sales_manager           sales_rep device_type    order_id  \n",
       "23  Jessamine Apark  Genevra Charrisson          PC  27-3437546  "
      ]
     },
     "execution_count": 22,
     "metadata": {},
     "output_type": "execute_result"
    }
   ],
   "source": [
    "# Check for duplicates\n",
    "duplicates = df[df.duplicated()]\n",
    "\n",
    "# Print duplicate rows\n",
    "print(\"Duplicates Rows:\")\n",
    "duplicates"
   ]
  },
  {
   "cell_type": "code",
   "execution_count": 23,
   "id": "64867034",
   "metadata": {
    "execution": {
     "iopub.execute_input": "2024-05-09T06:12:44.820045Z",
     "iopub.status.busy": "2024-05-09T06:12:44.819601Z",
     "iopub.status.idle": "2024-05-09T06:12:44.845331Z",
     "shell.execute_reply": "2024-05-09T06:12:44.844442Z"
    },
    "papermill": {
     "duration": 0.042609,
     "end_time": "2024-05-09T06:12:44.847576",
     "exception": false,
     "start_time": "2024-05-09T06:12:44.804967",
     "status": "completed"
    },
    "tags": []
   },
   "outputs": [
    {
     "name": "stdout",
     "output_type": "stream",
     "text": [
      "DataFrame without Duplicates:\n"
     ]
    },
    {
     "data": {
      "text/html": [
       "<div>\n",
       "<style scoped>\n",
       "    .dataframe tbody tr th:only-of-type {\n",
       "        vertical-align: middle;\n",
       "    }\n",
       "\n",
       "    .dataframe tbody tr th {\n",
       "        vertical-align: top;\n",
       "    }\n",
       "\n",
       "    .dataframe thead th {\n",
       "        text-align: right;\n",
       "    }\n",
       "</style>\n",
       "<table border=\"1\" class=\"dataframe\">\n",
       "  <thead>\n",
       "    <tr style=\"text-align: right;\">\n",
       "      <th></th>\n",
       "      <th>country</th>\n",
       "      <th>order_value_EUR</th>\n",
       "      <th>cost</th>\n",
       "      <th>date</th>\n",
       "      <th>category</th>\n",
       "      <th>customer_name</th>\n",
       "      <th>sales_manager</th>\n",
       "      <th>sales_rep</th>\n",
       "      <th>device_type</th>\n",
       "      <th>order_id</th>\n",
       "    </tr>\n",
       "  </thead>\n",
       "  <tbody>\n",
       "    <tr>\n",
       "      <th>0</th>\n",
       "      <td>Sweden</td>\n",
       "      <td>98320.37</td>\n",
       "      <td>77722.25</td>\n",
       "      <td>2020-08-23</td>\n",
       "      <td>Games</td>\n",
       "      <td>Konopelski LLC</td>\n",
       "      <td>Maxie Marrow</td>\n",
       "      <td>Tarrah Castelletti</td>\n",
       "      <td>Tablet</td>\n",
       "      <td>70-0511466</td>\n",
       "    </tr>\n",
       "    <tr>\n",
       "      <th>1</th>\n",
       "      <td>France</td>\n",
       "      <td>46296.26</td>\n",
       "      <td>40319.41</td>\n",
       "      <td>2020-05-15</td>\n",
       "      <td>Games</td>\n",
       "      <td>Wisoky Inc</td>\n",
       "      <td>Othello Bowes</td>\n",
       "      <td>Amelina Piscopiello</td>\n",
       "      <td>Tablet</td>\n",
       "      <td>77-3489084</td>\n",
       "    </tr>\n",
       "    <tr>\n",
       "      <th>2</th>\n",
       "      <td>Portugal</td>\n",
       "      <td>140337.34</td>\n",
       "      <td>115708.14</td>\n",
       "      <td>2020-04-09</td>\n",
       "      <td>Appliances</td>\n",
       "      <td>Hegmann Group</td>\n",
       "      <td>Celine Tumasian</td>\n",
       "      <td>Corene Shirer</td>\n",
       "      <td>PC</td>\n",
       "      <td>65-8218141</td>\n",
       "    </tr>\n",
       "    <tr>\n",
       "      <th>3</th>\n",
       "      <td>France</td>\n",
       "      <td>203604.46</td>\n",
       "      <td>175344.16</td>\n",
       "      <td>2019-06-26</td>\n",
       "      <td>Electronics</td>\n",
       "      <td>Kirlin and Sons</td>\n",
       "      <td>Othello Bowes</td>\n",
       "      <td>Crysta Halls</td>\n",
       "      <td>Mobile</td>\n",
       "      <td>29-5478106</td>\n",
       "    </tr>\n",
       "    <tr>\n",
       "      <th>4</th>\n",
       "      <td>UK</td>\n",
       "      <td>63979.04</td>\n",
       "      <td>56032.84</td>\n",
       "      <td>2019-10-22</td>\n",
       "      <td>Games</td>\n",
       "      <td>Schoen-Keeling</td>\n",
       "      <td>Jessamine Apark</td>\n",
       "      <td>Genevra Charrisson</td>\n",
       "      <td>PC</td>\n",
       "      <td>27-3437546</td>\n",
       "    </tr>\n",
       "    <tr>\n",
       "      <th>...</th>\n",
       "      <td>...</td>\n",
       "      <td>...</td>\n",
       "      <td>...</td>\n",
       "      <td>...</td>\n",
       "      <td>...</td>\n",
       "      <td>...</td>\n",
       "      <td>...</td>\n",
       "      <td>...</td>\n",
       "      <td>...</td>\n",
       "      <td>...</td>\n",
       "    </tr>\n",
       "    <tr>\n",
       "      <th>996</th>\n",
       "      <td>France</td>\n",
       "      <td>69126.50</td>\n",
       "      <td>55902.6</td>\n",
       "      <td>2019-08-12</td>\n",
       "      <td>Electronics</td>\n",
       "      <td>Farrell, Swaniawski and Crist</td>\n",
       "      <td>Othello Bowes</td>\n",
       "      <td>Avrit Chanders</td>\n",
       "      <td>PC</td>\n",
       "      <td>07-3201531</td>\n",
       "    </tr>\n",
       "    <tr>\n",
       "      <th>997</th>\n",
       "      <td>France</td>\n",
       "      <td>140943.88</td>\n",
       "      <td>120633.87</td>\n",
       "      <td>2020-05-28</td>\n",
       "      <td>Appliances</td>\n",
       "      <td>Armstrong-Little</td>\n",
       "      <td>Othello Bowes</td>\n",
       "      <td>Avrit Chanders</td>\n",
       "      <td>Tablet</td>\n",
       "      <td>77-0650807</td>\n",
       "    </tr>\n",
       "    <tr>\n",
       "      <th>998</th>\n",
       "      <td>France</td>\n",
       "      <td>124784.67</td>\n",
       "      <td>106853.11</td>\n",
       "      <td>2020-05-22</td>\n",
       "      <td>Electronics</td>\n",
       "      <td>Swaniawski, Runolfsson and Green</td>\n",
       "      <td>Othello Bowes</td>\n",
       "      <td>Ora Grennan</td>\n",
       "      <td>Tablet</td>\n",
       "      <td>44-2757396</td>\n",
       "    </tr>\n",
       "    <tr>\n",
       "      <th>999</th>\n",
       "      <td>Germany</td>\n",
       "      <td>61968.26</td>\n",
       "      <td>50690.04</td>\n",
       "      <td>2020-12-27</td>\n",
       "      <td>Electronics</td>\n",
       "      <td>Romaguera-Dietrich</td>\n",
       "      <td>Rickard Doogood</td>\n",
       "      <td>Casie MacBain</td>\n",
       "      <td>PC</td>\n",
       "      <td>22-7259031</td>\n",
       "    </tr>\n",
       "    <tr>\n",
       "      <th>1000</th>\n",
       "      <td>Netherlands</td>\n",
       "      <td>172453.10</td>\n",
       "      <td>145688.38</td>\n",
       "      <td>2020-06-24</td>\n",
       "      <td>Outdoors</td>\n",
       "      <td>Kirlin and Sons</td>\n",
       "      <td>Denice Amberg</td>\n",
       "      <td>Nero Harbisher</td>\n",
       "      <td>PC</td>\n",
       "      <td>60-6986682</td>\n",
       "    </tr>\n",
       "  </tbody>\n",
       "</table>\n",
       "<p>999 rows × 10 columns</p>\n",
       "</div>"
      ],
      "text/plain": [
       "          country  order_value_EUR       cost       date     category  \\\n",
       "0          Sweden         98320.37   77722.25 2020-08-23        Games   \n",
       "1          France         46296.26   40319.41 2020-05-15        Games   \n",
       "2        Portugal        140337.34  115708.14 2020-04-09   Appliances   \n",
       "3          France        203604.46  175344.16 2019-06-26  Electronics   \n",
       "4              UK         63979.04   56032.84 2019-10-22        Games   \n",
       "...           ...              ...        ...        ...          ...   \n",
       "996        France         69126.50    55902.6 2019-08-12  Electronics   \n",
       "997        France        140943.88  120633.87 2020-05-28   Appliances   \n",
       "998        France        124784.67  106853.11 2020-05-22  Electronics   \n",
       "999       Germany         61968.26   50690.04 2020-12-27  Electronics   \n",
       "1000  Netherlands        172453.10  145688.38 2020-06-24     Outdoors   \n",
       "\n",
       "                         customer_name    sales_manager            sales_rep  \\\n",
       "0                       Konopelski LLC     Maxie Marrow   Tarrah Castelletti   \n",
       "1                           Wisoky Inc    Othello Bowes  Amelina Piscopiello   \n",
       "2                        Hegmann Group  Celine Tumasian        Corene Shirer   \n",
       "3                      Kirlin and Sons    Othello Bowes         Crysta Halls   \n",
       "4                       Schoen-Keeling  Jessamine Apark   Genevra Charrisson   \n",
       "...                                ...              ...                  ...   \n",
       "996      Farrell, Swaniawski and Crist    Othello Bowes       Avrit Chanders   \n",
       "997                   Armstrong-Little    Othello Bowes       Avrit Chanders   \n",
       "998   Swaniawski, Runolfsson and Green    Othello Bowes          Ora Grennan   \n",
       "999                 Romaguera-Dietrich  Rickard Doogood        Casie MacBain   \n",
       "1000                   Kirlin and Sons    Denice Amberg       Nero Harbisher   \n",
       "\n",
       "     device_type    order_id  \n",
       "0         Tablet  70-0511466  \n",
       "1         Tablet  77-3489084  \n",
       "2             PC  65-8218141  \n",
       "3         Mobile  29-5478106  \n",
       "4             PC  27-3437546  \n",
       "...          ...         ...  \n",
       "996           PC  07-3201531  \n",
       "997       Tablet  77-0650807  \n",
       "998       Tablet  44-2757396  \n",
       "999           PC  22-7259031  \n",
       "1000          PC  60-6986682  \n",
       "\n",
       "[999 rows x 10 columns]"
      ]
     },
     "execution_count": 23,
     "metadata": {},
     "output_type": "execute_result"
    }
   ],
   "source": [
    "# Remove duplicates\n",
    "df_unique = df.drop_duplicates()\n",
    "\n",
    "# Drop duplicates based on specific columns\n",
    "print(\"DataFrame without Duplicates:\")\n",
    "df_unique "
   ]
  },
  {
   "cell_type": "code",
   "execution_count": 24,
   "id": "0a0277cd",
   "metadata": {
    "execution": {
     "iopub.execute_input": "2024-05-09T06:12:44.877365Z",
     "iopub.status.busy": "2024-05-09T06:12:44.876947Z",
     "iopub.status.idle": "2024-05-09T06:12:44.880989Z",
     "shell.execute_reply": "2024-05-09T06:12:44.880079Z"
    },
    "papermill": {
     "duration": 0.021728,
     "end_time": "2024-05-09T06:12:44.883230",
     "exception": false,
     "start_time": "2024-05-09T06:12:44.861502",
     "status": "completed"
    },
    "tags": []
   },
   "outputs": [],
   "source": [
    "cleaned_data = df_unique"
   ]
  },
  {
   "cell_type": "code",
   "execution_count": 25,
   "id": "29e59f15",
   "metadata": {
    "execution": {
     "iopub.execute_input": "2024-05-09T06:12:44.913415Z",
     "iopub.status.busy": "2024-05-09T06:12:44.912751Z",
     "iopub.status.idle": "2024-05-09T06:12:44.928348Z",
     "shell.execute_reply": "2024-05-09T06:12:44.927359Z"
    },
    "papermill": {
     "duration": 0.033303,
     "end_time": "2024-05-09T06:12:44.930562",
     "exception": false,
     "start_time": "2024-05-09T06:12:44.897259",
     "status": "completed"
    },
    "tags": []
   },
   "outputs": [
    {
     "data": {
      "text/html": [
       "<div>\n",
       "<style scoped>\n",
       "    .dataframe tbody tr th:only-of-type {\n",
       "        vertical-align: middle;\n",
       "    }\n",
       "\n",
       "    .dataframe tbody tr th {\n",
       "        vertical-align: top;\n",
       "    }\n",
       "\n",
       "    .dataframe thead th {\n",
       "        text-align: right;\n",
       "    }\n",
       "</style>\n",
       "<table border=\"1\" class=\"dataframe\">\n",
       "  <thead>\n",
       "    <tr style=\"text-align: right;\">\n",
       "      <th></th>\n",
       "      <th>country</th>\n",
       "      <th>order_value_EUR</th>\n",
       "      <th>cost</th>\n",
       "      <th>date</th>\n",
       "      <th>category</th>\n",
       "      <th>customer_name</th>\n",
       "      <th>sales_manager</th>\n",
       "      <th>sales_rep</th>\n",
       "      <th>device_type</th>\n",
       "      <th>order_id</th>\n",
       "    </tr>\n",
       "  </thead>\n",
       "  <tbody>\n",
       "    <tr>\n",
       "      <th>0</th>\n",
       "      <td>Sweden</td>\n",
       "      <td>98320.37</td>\n",
       "      <td>77722.25</td>\n",
       "      <td>2020-08-23</td>\n",
       "      <td>Games</td>\n",
       "      <td>Konopelski LLC</td>\n",
       "      <td>Maxie Marrow</td>\n",
       "      <td>Tarrah Castelletti</td>\n",
       "      <td>Tablet</td>\n",
       "      <td>70-0511466</td>\n",
       "    </tr>\n",
       "    <tr>\n",
       "      <th>1</th>\n",
       "      <td>France</td>\n",
       "      <td>46296.26</td>\n",
       "      <td>40319.41</td>\n",
       "      <td>2020-05-15</td>\n",
       "      <td>Games</td>\n",
       "      <td>Wisoky Inc</td>\n",
       "      <td>Othello Bowes</td>\n",
       "      <td>Amelina Piscopiello</td>\n",
       "      <td>Tablet</td>\n",
       "      <td>77-3489084</td>\n",
       "    </tr>\n",
       "    <tr>\n",
       "      <th>2</th>\n",
       "      <td>Portugal</td>\n",
       "      <td>140337.34</td>\n",
       "      <td>115708.14</td>\n",
       "      <td>2020-04-09</td>\n",
       "      <td>Appliances</td>\n",
       "      <td>Hegmann Group</td>\n",
       "      <td>Celine Tumasian</td>\n",
       "      <td>Corene Shirer</td>\n",
       "      <td>PC</td>\n",
       "      <td>65-8218141</td>\n",
       "    </tr>\n",
       "    <tr>\n",
       "      <th>3</th>\n",
       "      <td>France</td>\n",
       "      <td>203604.46</td>\n",
       "      <td>175344.16</td>\n",
       "      <td>2019-06-26</td>\n",
       "      <td>Electronics</td>\n",
       "      <td>Kirlin and Sons</td>\n",
       "      <td>Othello Bowes</td>\n",
       "      <td>Crysta Halls</td>\n",
       "      <td>Mobile</td>\n",
       "      <td>29-5478106</td>\n",
       "    </tr>\n",
       "    <tr>\n",
       "      <th>4</th>\n",
       "      <td>UK</td>\n",
       "      <td>63979.04</td>\n",
       "      <td>56032.84</td>\n",
       "      <td>2019-10-22</td>\n",
       "      <td>Games</td>\n",
       "      <td>Schoen-Keeling</td>\n",
       "      <td>Jessamine Apark</td>\n",
       "      <td>Genevra Charrisson</td>\n",
       "      <td>PC</td>\n",
       "      <td>27-3437546</td>\n",
       "    </tr>\n",
       "  </tbody>\n",
       "</table>\n",
       "</div>"
      ],
      "text/plain": [
       "    country  order_value_EUR       cost       date     category  \\\n",
       "0    Sweden         98320.37   77722.25 2020-08-23        Games   \n",
       "1    France         46296.26   40319.41 2020-05-15        Games   \n",
       "2  Portugal        140337.34  115708.14 2020-04-09   Appliances   \n",
       "3    France        203604.46  175344.16 2019-06-26  Electronics   \n",
       "4        UK         63979.04   56032.84 2019-10-22        Games   \n",
       "\n",
       "     customer_name    sales_manager            sales_rep device_type  \\\n",
       "0   Konopelski LLC     Maxie Marrow   Tarrah Castelletti      Tablet   \n",
       "1       Wisoky Inc    Othello Bowes  Amelina Piscopiello      Tablet   \n",
       "2    Hegmann Group  Celine Tumasian        Corene Shirer          PC   \n",
       "3  Kirlin and Sons    Othello Bowes         Crysta Halls      Mobile   \n",
       "4   Schoen-Keeling  Jessamine Apark   Genevra Charrisson          PC   \n",
       "\n",
       "     order_id  \n",
       "0  70-0511466  \n",
       "1  77-3489084  \n",
       "2  65-8218141  \n",
       "3  29-5478106  \n",
       "4  27-3437546  "
      ]
     },
     "execution_count": 25,
     "metadata": {},
     "output_type": "execute_result"
    }
   ],
   "source": [
    "cleaned_data.head()"
   ]
  },
  {
   "cell_type": "code",
   "execution_count": 26,
   "id": "ee261adf",
   "metadata": {
    "execution": {
     "iopub.execute_input": "2024-05-09T06:12:44.960999Z",
     "iopub.status.busy": "2024-05-09T06:12:44.960571Z",
     "iopub.status.idle": "2024-05-09T06:12:44.966210Z",
     "shell.execute_reply": "2024-05-09T06:12:44.965072Z"
    },
    "papermill": {
     "duration": 0.023744,
     "end_time": "2024-05-09T06:12:44.968542",
     "exception": false,
     "start_time": "2024-05-09T06:12:44.944798",
     "status": "completed"
    },
    "tags": []
   },
   "outputs": [],
   "source": [
    "# Check for missing values in the device_type column\n",
    "missing_values = df['device_type'].isnull().sum()"
   ]
  },
  {
   "cell_type": "code",
   "execution_count": 27,
   "id": "0f88c226",
   "metadata": {
    "execution": {
     "iopub.execute_input": "2024-05-09T06:12:45.000021Z",
     "iopub.status.busy": "2024-05-09T06:12:44.999555Z",
     "iopub.status.idle": "2024-05-09T06:12:45.005385Z",
     "shell.execute_reply": "2024-05-09T06:12:45.004160Z"
    },
    "papermill": {
     "duration": 0.025394,
     "end_time": "2024-05-09T06:12:45.008121",
     "exception": false,
     "start_time": "2024-05-09T06:12:44.982727",
     "status": "completed"
    },
    "tags": []
   },
   "outputs": [
    {
     "name": "stdout",
     "output_type": "stream",
     "text": [
      "Number of missing values in device_type: 0\n"
     ]
    }
   ],
   "source": [
    "# Print the number of missing values\n",
    "print(\"Number of missing values in device_type:\", missing_values)"
   ]
  }
 ],
 "metadata": {
  "kaggle": {
   "accelerator": "none",
   "dataSources": [
    {
     "datasetId": 4969902,
     "sourceId": 8362174,
     "sourceType": "datasetVersion"
    }
   ],
   "dockerImageVersionId": 30698,
   "isGpuEnabled": false,
   "isInternetEnabled": true,
   "language": "python",
   "sourceType": "notebook"
  },
  "kernelspec": {
   "display_name": "Python 3",
   "language": "python",
   "name": "python3"
  },
  "language_info": {
   "codemirror_mode": {
    "name": "ipython",
    "version": 3
   },
   "file_extension": ".py",
   "mimetype": "text/x-python",
   "name": "python",
   "nbconvert_exporter": "python",
   "pygments_lexer": "ipython3",
   "version": "3.10.13"
  },
  "papermill": {
   "default_parameters": {},
   "duration": 54.144485,
   "end_time": "2024-05-09T06:12:45.644970",
   "environment_variables": {},
   "exception": null,
   "input_path": "__notebook__.ipynb",
   "output_path": "__notebook__.ipynb",
   "parameters": {},
   "start_time": "2024-05-09T06:11:51.500485",
   "version": "2.5.0"
  }
 },
 "nbformat": 4,
 "nbformat_minor": 5
}
