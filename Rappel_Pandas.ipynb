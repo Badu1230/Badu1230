{
  "nbformat": 4,
  "nbformat_minor": 0,
  "metadata": {
    "colab": {
      "provenance": [],
      "authorship_tag": "ABX9TyPXUJaQ0ycq46Tz+9GDuAvg",
      "include_colab_link": true
    },
    "kernelspec": {
      "name": "python3",
      "display_name": "Python 3"
    },
    "language_info": {
      "name": "python"
    }
  },
  "cells": [
    {
      "cell_type": "markdown",
      "metadata": {
        "id": "view-in-github",
        "colab_type": "text"
      },
      "source": [
        "<a href=\"https://colab.research.google.com/github/Badu1230/Badu1230/blob/main/Rappel_Pandas.ipynb\" target=\"_parent\"><img src=\"https://colab.research.google.com/assets/colab-badge.svg\" alt=\"Open In Colab\"/></a>"
      ]
    },
    {
      "cell_type": "code",
      "execution_count": 1,
      "metadata": {
        "id": "oVZyRHIOBVT-"
      },
      "outputs": [],
      "source": [
        "import pandas as pd"
      ]
    },
    {
      "cell_type": "code",
      "source": [
        "# Création d'une Series\n",
        "\n",
        "series = pd.Series([10, 20, 30, 40], index=[\"A\", \"B\", \"C\", \"D\"])\n",
        "print(series)"
      ],
      "metadata": {
        "colab": {
          "base_uri": "https://localhost:8080/"
        },
        "id": "jfnZrIbSC1Rs",
        "outputId": "4177ce6a-b4bf-4b58-bd8e-eeb95a47e529"
      },
      "execution_count": 2,
      "outputs": [
        {
          "output_type": "stream",
          "name": "stdout",
          "text": [
            "A    10\n",
            "B    20\n",
            "C    30\n",
            "D    40\n",
            "dtype: int64\n"
          ]
        }
      ]
    },
    {
      "cell_type": "code",
      "source": [
        "import pandas as pd\n",
        "\n",
        "# Création d'un DataFrame à partir d'un dictionnaire\n",
        "data = {\"Nom\": [\"Alice\", \"Bob\", \"Charlie\"], \"Âge\": [25, 30, 35], \"Score\": [85.5, 90.0, 88.0]}\n",
        "df = pd.DataFrame(data)\n",
        "\n",
        "# Affichage du DataFrame\n",
        "print(df)\n",
        "\n",
        "# Exportation du DataFrame vers un fichier CSV\n",
        "df.to_csv(\"data.csv\", index=False, sep=\";\")\n",
        "\n",
        "\n"
      ],
      "metadata": {
        "colab": {
          "base_uri": "https://localhost:8080/"
        },
        "id": "CImyEk_BDBcj",
        "outputId": "cfac70dc-fe4c-4c00-9a11-fc271797eb5d"
      },
      "execution_count": 11,
      "outputs": [
        {
          "output_type": "stream",
          "name": "stdout",
          "text": [
            "       Nom  Âge  Score\n",
            "0    Alice   25   85.5\n",
            "1      Bob   30   90.0\n",
            "2  Charlie   35   88.0\n"
          ]
        }
      ]
    },
    {
      "cell_type": "code",
      "source": [
        "\n",
        "# Chargement d'un fichier CSV\n",
        "df = pd.read_csv(\"data.csv\")\n",
        "print(df.head())\n"
      ],
      "metadata": {
        "colab": {
          "base_uri": "https://localhost:8080/"
        },
        "id": "UVXOpG0nDIXR",
        "outputId": "c788c1b6-7ec1-4154-9a24-709af50c8f17"
      },
      "execution_count": 10,
      "outputs": [
        {
          "output_type": "stream",
          "name": "stdout",
          "text": [
            "     Nom;Âge;Score\n",
            "0    Alice;25;85.5\n",
            "1      Bob;30;90.0\n",
            "2  Charlie;35;88.0\n"
          ]
        }
      ]
    },
    {
      "cell_type": "code",
      "source": [
        "# Affiche aléatoirement des listes\n",
        "print(df.sample())"
      ],
      "metadata": {
        "colab": {
          "base_uri": "https://localhost:8080/"
        },
        "id": "YFWDrNAEHhXv",
        "outputId": "f5eeeedd-e472-4c48-e078-e75ccb2ca325"
      },
      "execution_count": 22,
      "outputs": [
        {
          "output_type": "stream",
          "name": "stdout",
          "text": [
            "   Nom  Âge  Score Catégorie  Score_Augmenté\n",
            "1  Bob   30   90.0         B            99.0\n"
          ]
        }
      ]
    },
    {
      "cell_type": "code",
      "source": [
        "# Sauvegarde d'un DataFrame dans un fichier Excel\n",
        "df.to_excel(\"data.xlsx\", index=False)\n"
      ],
      "metadata": {
        "id": "heSXHCEFFleN"
      },
      "execution_count": 14,
      "outputs": []
    },
    {
      "cell_type": "code",
      "source": [
        "# Sélection des colonnes\n",
        "ages = df[\"Âge\"]\n",
        "print(ages)\n",
        "\n",
        "subset = df[[\"Nom\", \"Score\"]]\n",
        "print(subset)"
      ],
      "metadata": {
        "colab": {
          "base_uri": "https://localhost:8080/"
        },
        "id": "8H0gPbgsGFgQ",
        "outputId": "16007752-6e3d-46c7-e4f1-49721e04b752"
      },
      "execution_count": 25,
      "outputs": [
        {
          "output_type": "stream",
          "name": "stdout",
          "text": [
            "0    25\n",
            "1    30\n",
            "2    35\n",
            "Name: Âge, dtype: int64\n",
            "       Nom  Score\n",
            "0    Alice   85.5\n",
            "1      Bob   90.0\n",
            "2  Charlie   88.0\n"
          ]
        }
      ]
    },
    {
      "cell_type": "code",
      "source": [
        "# Sélection par ligne\n",
        "df.loc[1]\n",
        "df.iloc[0:2]\n"
      ],
      "metadata": {
        "colab": {
          "base_uri": "https://localhost:8080/",
          "height": 112
        },
        "id": "xN6Wp7lHGOUW",
        "outputId": "1ee4807f-0898-416e-ee0a-aeb3baf04541"
      },
      "execution_count": 16,
      "outputs": [
        {
          "output_type": "execute_result",
          "data": {
            "text/plain": [
              "     Nom  Âge  Score\n",
              "0  Alice   25   85.5\n",
              "1    Bob   30   90.0"
            ],
            "text/html": [
              "\n",
              "  <div id=\"df-d7ae68cd-ad87-43c6-bc50-1124f35ccf6b\" class=\"colab-df-container\">\n",
              "    <div>\n",
              "<style scoped>\n",
              "    .dataframe tbody tr th:only-of-type {\n",
              "        vertical-align: middle;\n",
              "    }\n",
              "\n",
              "    .dataframe tbody tr th {\n",
              "        vertical-align: top;\n",
              "    }\n",
              "\n",
              "    .dataframe thead th {\n",
              "        text-align: right;\n",
              "    }\n",
              "</style>\n",
              "<table border=\"1\" class=\"dataframe\">\n",
              "  <thead>\n",
              "    <tr style=\"text-align: right;\">\n",
              "      <th></th>\n",
              "      <th>Nom</th>\n",
              "      <th>Âge</th>\n",
              "      <th>Score</th>\n",
              "    </tr>\n",
              "  </thead>\n",
              "  <tbody>\n",
              "    <tr>\n",
              "      <th>0</th>\n",
              "      <td>Alice</td>\n",
              "      <td>25</td>\n",
              "      <td>85.5</td>\n",
              "    </tr>\n",
              "    <tr>\n",
              "      <th>1</th>\n",
              "      <td>Bob</td>\n",
              "      <td>30</td>\n",
              "      <td>90.0</td>\n",
              "    </tr>\n",
              "  </tbody>\n",
              "</table>\n",
              "</div>\n",
              "    <div class=\"colab-df-buttons\">\n",
              "\n",
              "  <div class=\"colab-df-container\">\n",
              "    <button class=\"colab-df-convert\" onclick=\"convertToInteractive('df-d7ae68cd-ad87-43c6-bc50-1124f35ccf6b')\"\n",
              "            title=\"Convert this dataframe to an interactive table.\"\n",
              "            style=\"display:none;\">\n",
              "\n",
              "  <svg xmlns=\"http://www.w3.org/2000/svg\" height=\"24px\" viewBox=\"0 -960 960 960\">\n",
              "    <path d=\"M120-120v-720h720v720H120Zm60-500h600v-160H180v160Zm220 220h160v-160H400v160Zm0 220h160v-160H400v160ZM180-400h160v-160H180v160Zm440 0h160v-160H620v160ZM180-180h160v-160H180v160Zm440 0h160v-160H620v160Z\"/>\n",
              "  </svg>\n",
              "    </button>\n",
              "\n",
              "  <style>\n",
              "    .colab-df-container {\n",
              "      display:flex;\n",
              "      gap: 12px;\n",
              "    }\n",
              "\n",
              "    .colab-df-convert {\n",
              "      background-color: #E8F0FE;\n",
              "      border: none;\n",
              "      border-radius: 50%;\n",
              "      cursor: pointer;\n",
              "      display: none;\n",
              "      fill: #1967D2;\n",
              "      height: 32px;\n",
              "      padding: 0 0 0 0;\n",
              "      width: 32px;\n",
              "    }\n",
              "\n",
              "    .colab-df-convert:hover {\n",
              "      background-color: #E2EBFA;\n",
              "      box-shadow: 0px 1px 2px rgba(60, 64, 67, 0.3), 0px 1px 3px 1px rgba(60, 64, 67, 0.15);\n",
              "      fill: #174EA6;\n",
              "    }\n",
              "\n",
              "    .colab-df-buttons div {\n",
              "      margin-bottom: 4px;\n",
              "    }\n",
              "\n",
              "    [theme=dark] .colab-df-convert {\n",
              "      background-color: #3B4455;\n",
              "      fill: #D2E3FC;\n",
              "    }\n",
              "\n",
              "    [theme=dark] .colab-df-convert:hover {\n",
              "      background-color: #434B5C;\n",
              "      box-shadow: 0px 1px 3px 1px rgba(0, 0, 0, 0.15);\n",
              "      filter: drop-shadow(0px 1px 2px rgba(0, 0, 0, 0.3));\n",
              "      fill: #FFFFFF;\n",
              "    }\n",
              "  </style>\n",
              "\n",
              "    <script>\n",
              "      const buttonEl =\n",
              "        document.querySelector('#df-d7ae68cd-ad87-43c6-bc50-1124f35ccf6b button.colab-df-convert');\n",
              "      buttonEl.style.display =\n",
              "        google.colab.kernel.accessAllowed ? 'block' : 'none';\n",
              "\n",
              "      async function convertToInteractive(key) {\n",
              "        const element = document.querySelector('#df-d7ae68cd-ad87-43c6-bc50-1124f35ccf6b');\n",
              "        const dataTable =\n",
              "          await google.colab.kernel.invokeFunction('convertToInteractive',\n",
              "                                                    [key], {});\n",
              "        if (!dataTable) return;\n",
              "\n",
              "        const docLinkHtml = 'Like what you see? Visit the ' +\n",
              "          '<a target=\"_blank\" href=https://colab.research.google.com/notebooks/data_table.ipynb>data table notebook</a>'\n",
              "          + ' to learn more about interactive tables.';\n",
              "        element.innerHTML = '';\n",
              "        dataTable['output_type'] = 'display_data';\n",
              "        await google.colab.output.renderOutput(dataTable, element);\n",
              "        const docLink = document.createElement('div');\n",
              "        docLink.innerHTML = docLinkHtml;\n",
              "        element.appendChild(docLink);\n",
              "      }\n",
              "    </script>\n",
              "  </div>\n",
              "\n",
              "\n",
              "<div id=\"df-c556afd9-7c7a-46d2-8d6e-7ee865caf2fe\">\n",
              "  <button class=\"colab-df-quickchart\" onclick=\"quickchart('df-c556afd9-7c7a-46d2-8d6e-7ee865caf2fe')\"\n",
              "            title=\"Suggest charts\"\n",
              "            style=\"display:none;\">\n",
              "\n",
              "<svg xmlns=\"http://www.w3.org/2000/svg\" height=\"24px\"viewBox=\"0 0 24 24\"\n",
              "     width=\"24px\">\n",
              "    <g>\n",
              "        <path d=\"M19 3H5c-1.1 0-2 .9-2 2v14c0 1.1.9 2 2 2h14c1.1 0 2-.9 2-2V5c0-1.1-.9-2-2-2zM9 17H7v-7h2v7zm4 0h-2V7h2v10zm4 0h-2v-4h2v4z\"/>\n",
              "    </g>\n",
              "</svg>\n",
              "  </button>\n",
              "\n",
              "<style>\n",
              "  .colab-df-quickchart {\n",
              "      --bg-color: #E8F0FE;\n",
              "      --fill-color: #1967D2;\n",
              "      --hover-bg-color: #E2EBFA;\n",
              "      --hover-fill-color: #174EA6;\n",
              "      --disabled-fill-color: #AAA;\n",
              "      --disabled-bg-color: #DDD;\n",
              "  }\n",
              "\n",
              "  [theme=dark] .colab-df-quickchart {\n",
              "      --bg-color: #3B4455;\n",
              "      --fill-color: #D2E3FC;\n",
              "      --hover-bg-color: #434B5C;\n",
              "      --hover-fill-color: #FFFFFF;\n",
              "      --disabled-bg-color: #3B4455;\n",
              "      --disabled-fill-color: #666;\n",
              "  }\n",
              "\n",
              "  .colab-df-quickchart {\n",
              "    background-color: var(--bg-color);\n",
              "    border: none;\n",
              "    border-radius: 50%;\n",
              "    cursor: pointer;\n",
              "    display: none;\n",
              "    fill: var(--fill-color);\n",
              "    height: 32px;\n",
              "    padding: 0;\n",
              "    width: 32px;\n",
              "  }\n",
              "\n",
              "  .colab-df-quickchart:hover {\n",
              "    background-color: var(--hover-bg-color);\n",
              "    box-shadow: 0 1px 2px rgba(60, 64, 67, 0.3), 0 1px 3px 1px rgba(60, 64, 67, 0.15);\n",
              "    fill: var(--button-hover-fill-color);\n",
              "  }\n",
              "\n",
              "  .colab-df-quickchart-complete:disabled,\n",
              "  .colab-df-quickchart-complete:disabled:hover {\n",
              "    background-color: var(--disabled-bg-color);\n",
              "    fill: var(--disabled-fill-color);\n",
              "    box-shadow: none;\n",
              "  }\n",
              "\n",
              "  .colab-df-spinner {\n",
              "    border: 2px solid var(--fill-color);\n",
              "    border-color: transparent;\n",
              "    border-bottom-color: var(--fill-color);\n",
              "    animation:\n",
              "      spin 1s steps(1) infinite;\n",
              "  }\n",
              "\n",
              "  @keyframes spin {\n",
              "    0% {\n",
              "      border-color: transparent;\n",
              "      border-bottom-color: var(--fill-color);\n",
              "      border-left-color: var(--fill-color);\n",
              "    }\n",
              "    20% {\n",
              "      border-color: transparent;\n",
              "      border-left-color: var(--fill-color);\n",
              "      border-top-color: var(--fill-color);\n",
              "    }\n",
              "    30% {\n",
              "      border-color: transparent;\n",
              "      border-left-color: var(--fill-color);\n",
              "      border-top-color: var(--fill-color);\n",
              "      border-right-color: var(--fill-color);\n",
              "    }\n",
              "    40% {\n",
              "      border-color: transparent;\n",
              "      border-right-color: var(--fill-color);\n",
              "      border-top-color: var(--fill-color);\n",
              "    }\n",
              "    60% {\n",
              "      border-color: transparent;\n",
              "      border-right-color: var(--fill-color);\n",
              "    }\n",
              "    80% {\n",
              "      border-color: transparent;\n",
              "      border-right-color: var(--fill-color);\n",
              "      border-bottom-color: var(--fill-color);\n",
              "    }\n",
              "    90% {\n",
              "      border-color: transparent;\n",
              "      border-bottom-color: var(--fill-color);\n",
              "    }\n",
              "  }\n",
              "</style>\n",
              "\n",
              "  <script>\n",
              "    async function quickchart(key) {\n",
              "      const quickchartButtonEl =\n",
              "        document.querySelector('#' + key + ' button');\n",
              "      quickchartButtonEl.disabled = true;  // To prevent multiple clicks.\n",
              "      quickchartButtonEl.classList.add('colab-df-spinner');\n",
              "      try {\n",
              "        const charts = await google.colab.kernel.invokeFunction(\n",
              "            'suggestCharts', [key], {});\n",
              "      } catch (error) {\n",
              "        console.error('Error during call to suggestCharts:', error);\n",
              "      }\n",
              "      quickchartButtonEl.classList.remove('colab-df-spinner');\n",
              "      quickchartButtonEl.classList.add('colab-df-quickchart-complete');\n",
              "    }\n",
              "    (() => {\n",
              "      let quickchartButtonEl =\n",
              "        document.querySelector('#df-c556afd9-7c7a-46d2-8d6e-7ee865caf2fe button');\n",
              "      quickchartButtonEl.style.display =\n",
              "        google.colab.kernel.accessAllowed ? 'block' : 'none';\n",
              "    })();\n",
              "  </script>\n",
              "</div>\n",
              "\n",
              "    </div>\n",
              "  </div>\n"
            ],
            "application/vnd.google.colaboratory.intrinsic+json": {
              "type": "dataframe",
              "summary": "{\n  \"name\": \"df\",\n  \"rows\": 2,\n  \"fields\": [\n    {\n      \"column\": \"Nom\",\n      \"properties\": {\n        \"dtype\": \"string\",\n        \"num_unique_values\": 2,\n        \"samples\": [\n          \"Bob\",\n          \"Alice\"\n        ],\n        \"semantic_type\": \"\",\n        \"description\": \"\"\n      }\n    },\n    {\n      \"column\": \"\\u00c2ge\",\n      \"properties\": {\n        \"dtype\": \"number\",\n        \"std\": 3,\n        \"min\": 25,\n        \"max\": 30,\n        \"num_unique_values\": 2,\n        \"samples\": [\n          30,\n          25\n        ],\n        \"semantic_type\": \"\",\n        \"description\": \"\"\n      }\n    },\n    {\n      \"column\": \"Score\",\n      \"properties\": {\n        \"dtype\": \"number\",\n        \"std\": 3.181980515339464,\n        \"min\": 85.5,\n        \"max\": 90.0,\n        \"num_unique_values\": 2,\n        \"samples\": [\n          90.0,\n          85.5\n        ],\n        \"semantic_type\": \"\",\n        \"description\": \"\"\n      }\n    }\n  ]\n}"
            }
          },
          "metadata": {},
          "execution_count": 16
        }
      ]
    },
    {
      "cell_type": "code",
      "source": [
        "# Filtrage des données\n",
        "high_scores = df[df[\"Score\"] > 85] # df les données et (score and greather than 85)\n",
        "print(high_scores)\n"
      ],
      "metadata": {
        "colab": {
          "base_uri": "https://localhost:8080/"
        },
        "id": "6bRO3O1SGbfX",
        "outputId": "04bcf6ff-f0da-4f39-e7b3-ecda0913c7d6"
      },
      "execution_count": 31,
      "outputs": [
        {
          "output_type": "stream",
          "name": "stdout",
          "text": [
            "       Nom  Âge  Score  Score_Augmenté\n",
            "0    Alice   25   85.5           94.05\n",
            "1      Bob   30   90.0           99.00\n",
            "2  Charlie   35   88.0           96.80\n"
          ]
        }
      ]
    },
    {
      "cell_type": "code",
      "source": [
        "# Ajouter une colonne\n",
        "df[\"Catégorie\"] = [\"A\", \"B\", \"A\"]\n",
        "df[\"Score_Augmenté\"] = df[\"Score\"] * 1.1\n",
        "print(df)"
      ],
      "metadata": {
        "colab": {
          "base_uri": "https://localhost:8080/"
        },
        "id": "xQgQBC5nHTCC",
        "outputId": "6cfcd8d5-72e0-469a-e0d0-94fb9a5b92da"
      },
      "execution_count": 28,
      "outputs": [
        {
          "output_type": "stream",
          "name": "stdout",
          "text": [
            "       Nom  Âge  Score  Score_Augmenté Catégorie\n",
            "0    Alice   25   85.5           94.05         A\n",
            "1      Bob   30   90.0           99.00         B\n",
            "2  Charlie   35   88.0           96.80         A\n"
          ]
        }
      ]
    },
    {
      "cell_type": "code",
      "source": [
        "# Supprimer une colonne\n",
        "df = df.drop(\"Catégorie\", axis=1)\n",
        "print(df)\n"
      ],
      "metadata": {
        "colab": {
          "base_uri": "https://localhost:8080/"
        },
        "id": "1iqEcAvPH1mR",
        "outputId": "53098cfc-356f-4192-d00c-459d3d240a07"
      },
      "execution_count": 29,
      "outputs": [
        {
          "output_type": "stream",
          "name": "stdout",
          "text": [
            "       Nom  Âge  Score  Score_Augmenté\n",
            "0    Alice   25   85.5           94.05\n",
            "1      Bob   30   90.0           99.00\n",
            "2  Charlie   35   88.0           96.80\n"
          ]
        }
      ]
    },
    {
      "cell_type": "code",
      "source": [
        "# Résumé statistique\n",
        "print(df.describe())\n"
      ],
      "metadata": {
        "colab": {
          "base_uri": "https://localhost:8080/"
        },
        "id": "J8o36tc0JgMb",
        "outputId": "99486a6b-a50f-4044-e482-51f079be9be2"
      },
      "execution_count": 30,
      "outputs": [
        {
          "output_type": "stream",
          "name": "stdout",
          "text": [
            "        Âge      Score  Score_Augmenté\n",
            "count   3.0   3.000000        3.000000\n",
            "mean   30.0  87.833333       96.616667\n",
            "std     5.0   2.254625        2.480087\n",
            "min    25.0  85.500000       94.050000\n",
            "25%    27.5  86.750000       95.425000\n",
            "50%    30.0  88.000000       96.800000\n",
            "75%    32.5  89.000000       97.900000\n",
            "max    35.0  90.000000       99.000000\n"
          ]
        }
      ]
    },
    {
      "cell_type": "code",
      "source": [
        "# Moyenne et médiane\n",
        "print(df[\"Score\"].mean())\n",
        "\n",
        "\n",
        "print(df[\"Âge\"].median())\n",
        "\n",
        "\n"
      ],
      "metadata": {
        "colab": {
          "base_uri": "https://localhost:8080/"
        },
        "id": "Hnm3HwSdLS75",
        "outputId": "1db9e83b-862b-4445-8a92-61575b394a66"
      },
      "execution_count": 34,
      "outputs": [
        {
          "output_type": "stream",
          "name": "stdout",
          "text": [
            "87.83333333333333\n",
            "30.0\n"
          ]
        }
      ]
    },
    {
      "cell_type": "code",
      "source": [
        "# Ajouter une colonne\n",
        "df[\"Catégorie\"] = [\"A\", \"B\", \"A\"]\n",
        "df[\"Sexe\"] = [\"F\", \"M\", \"F\"]\n",
        "print(df)"
      ],
      "metadata": {
        "colab": {
          "base_uri": "https://localhost:8080/"
        },
        "id": "-qDsazsgSw6x",
        "outputId": "0611f97f-a2f7-4c47-934f-5d089d6197aa"
      },
      "execution_count": 41,
      "outputs": [
        {
          "output_type": "stream",
          "name": "stdout",
          "text": [
            "       Nom  Âge  Score  Score_Augmenté Catégorie Sexe\n",
            "0    Alice   25   85.5           94.05         A    F\n",
            "1      Bob   30   90.0           99.00         B    M\n",
            "2  Charlie   35   88.0           96.80         A    F\n"
          ]
        }
      ]
    },
    {
      "cell_type": "code",
      "source": [
        "# Regroupe par categorie et score\n",
        "grouped = df.groupby(\"Catégorie\")[\"Score\"].mean()\n",
        "print(grouped)\n",
        "\n",
        "grouped2 = df.groupby(\"Sexe\")['Âge'].mean()\n",
        "print(grouped2)"
      ],
      "metadata": {
        "colab": {
          "base_uri": "https://localhost:8080/"
        },
        "id": "_41qCEhmSQno",
        "outputId": "ef0ff2d8-1409-4ebd-bc3c-4b10726d84bd"
      },
      "execution_count": 44,
      "outputs": [
        {
          "output_type": "stream",
          "name": "stdout",
          "text": [
            "Catégorie\n",
            "A    86.75\n",
            "B    90.00\n",
            "Name: Score, dtype: float64\n",
            "Sexe\n",
            "F    30.0\n",
            "M    30.0\n",
            "Name: Âge, dtype: float64\n"
          ]
        }
      ]
    },
    {
      "cell_type": "code",
      "source": [
        "#Aggregation multiples\n",
        "aggregated = df.groupby(\"Catégorie\").agg({\"Âge\": \"max\", \"Score\": [\"mean\", \"std\"]})\n",
        "print(aggregated)\n"
      ],
      "metadata": {
        "colab": {
          "base_uri": "https://localhost:8080/"
        },
        "id": "gznK8Nf3SmIF",
        "outputId": "176d5076-6f24-4865-f92c-4c411e3a1a9d"
      },
      "execution_count": 45,
      "outputs": [
        {
          "output_type": "stream",
          "name": "stdout",
          "text": [
            "          Âge  Score          \n",
            "          max   mean       std\n",
            "Catégorie                     \n",
            "A          35  86.75  1.767767\n",
            "B          30  90.00       NaN\n"
          ]
        }
      ]
    },
    {
      "cell_type": "code",
      "source": [
        "# Gestion des valeurs manquantes\n",
        "\n",
        "df.isnull()\n",
        "\n",
        "df.loc[1,\"Âge\"] = pd.NA  # il retorne le row et colonne\n",
        "\n",
        "print(df)\n"
      ],
      "metadata": {
        "colab": {
          "base_uri": "https://localhost:8080/"
        },
        "id": "_6f7NNRUT0Cs",
        "outputId": "cdd4e703-cbe9-47bc-f90a-85d25afdd37b"
      },
      "execution_count": 51,
      "outputs": [
        {
          "output_type": "stream",
          "name": "stdout",
          "text": [
            "       Nom   Âge  Score  Score_Augmenté Catégorie Sexe\n",
            "0    Alice  25.0   85.5           94.05         A    F\n",
            "1      Bob   NaN   90.0           99.00         B    M\n",
            "2  Charlie  35.0   88.0           96.80         A    F\n"
          ]
        }
      ]
    },
    {
      "cell_type": "code",
      "source": [
        "# Remplacer les valeurs manquantes\n",
        "\n",
        "df[\"Âge\"] = df[\"Âge\"].fillna(df[\"Âge\"].mean())\n",
        "print(df)"
      ],
      "metadata": {
        "colab": {
          "base_uri": "https://localhost:8080/"
        },
        "id": "eacRQ9RjVt--",
        "outputId": "60dcc485-a030-47fb-d62a-c3d0a0ccc69a"
      },
      "execution_count": 52,
      "outputs": [
        {
          "output_type": "stream",
          "name": "stdout",
          "text": [
            "       Nom   Âge  Score  Score_Augmenté Catégorie Sexe\n",
            "0    Alice  25.0   85.5           94.05         A    F\n",
            "1      Bob  30.0   90.0           99.00         B    M\n",
            "2  Charlie  35.0   88.0           96.80         A    F\n"
          ]
        }
      ]
    },
    {
      "cell_type": "code",
      "source": [
        "# Supprimer les lignes avec valeurs manquantes\n",
        "df = df.dropna()\n",
        "print(df)"
      ],
      "metadata": {
        "colab": {
          "base_uri": "https://localhost:8080/"
        },
        "id": "DMEIG0TaWlwh",
        "outputId": "70a60e7d-64d1-475b-9f95-dd20ed6a199e"
      },
      "execution_count": 54,
      "outputs": [
        {
          "output_type": "stream",
          "name": "stdout",
          "text": [
            "       Nom   Âge  Score  Score_Augmenté Catégorie Sexe\n",
            "0    Alice  25.0   85.5           94.05         A    F\n",
            "1      Bob  30.0   90.0           99.00         B    M\n",
            "2  Charlie  35.0   88.0           96.80         A    F\n"
          ]
        }
      ]
    },
    {
      "cell_type": "code",
      "source": [
        "# Fusion et jointures\n",
        "\n",
        "df1 = pd.DataFrame({\"ID\": [1, 2, 3], \"Nom\": [\"Alice\", \"Bob\", \"Charlie\"]})\n",
        "df2 = pd.DataFrame({\"ID\": [1, 2, 4], \"Score\": [85, 90, 88]})\n",
        "print(df1)\n",
        "print(df2)\n",
        "\n",
        "merged = pd.merge(df1, df2, on=\"ID\", how=\"inner\")\n",
        "print(merged)\n",
        "merged_outer = pd.merge(df1, df2, on=\"ID\", how=\"outer\")\n",
        "print(merged_outer)"
      ],
      "metadata": {
        "colab": {
          "base_uri": "https://localhost:8080/"
        },
        "id": "Gchn_fuRWtQU",
        "outputId": "c9f90ea8-0d7d-4e65-816a-1a09cfbb757b"
      },
      "execution_count": 64,
      "outputs": [
        {
          "output_type": "stream",
          "name": "stdout",
          "text": [
            "   ID      Nom\n",
            "0   1    Alice\n",
            "1   2      Bob\n",
            "2   3  Charlie\n",
            "   ID  Score\n",
            "0   1     85\n",
            "1   2     90\n",
            "2   4     88\n",
            "   ID    Nom  Score\n",
            "0   1  Alice     85\n",
            "1   2    Bob     90\n",
            "   ID      Nom  Score\n",
            "0   1    Alice   85.0\n",
            "1   2      Bob   90.0\n",
            "2   3  Charlie    NaN\n",
            "3   4      NaN   88.0\n"
          ]
        }
      ]
    },
    {
      "cell_type": "code",
      "source": [
        "# Pivot et tableaux croisés\n",
        "df = pd.DataFrame({\"Nom\": [\"Alice\", \"Bob\", \"Alice\", \"Bob\"], \"Jour\": [\"Lundi\", \"Lundi\",\n",
        "\"Mardi\", \"Mardi\"], \"Score\": [85, 90, 88, 92]})\n",
        "pivot_table = df.pivot(index=\"Nom\", columns=\"Jour\", values=\"Score\")\n",
        "print(df)\n",
        "print(pivot_table)\n",
        "cross_tab = pd.crosstab(df[\"Nom\"], df[\"Jour\"]) #compte des occurrences,\n",
        "print(cross_tab)\n"
      ],
      "metadata": {
        "colab": {
          "base_uri": "https://localhost:8080/"
        },
        "id": "_-MSNbusW_KX",
        "outputId": "15ffe74b-2b3c-4396-d90b-cac8a7f164cc"
      },
      "execution_count": 60,
      "outputs": [
        {
          "output_type": "stream",
          "name": "stdout",
          "text": [
            "     Nom   Jour  Score\n",
            "0  Alice  Lundi     85\n",
            "1    Bob  Lundi     90\n",
            "2  Alice  Mardi     88\n",
            "3    Bob  Mardi     92\n",
            "Jour   Lundi  Mardi\n",
            "Nom                \n",
            "Alice     85     88\n",
            "Bob       90     92\n",
            "Jour   Lundi  Mardi\n",
            "Nom                \n",
            "Alice      1      1\n",
            "Bob        1      1\n"
          ]
        }
      ]
    },
    {
      "cell_type": "code",
      "source": [
        "# Visualisation avec pandas\n",
        "import matplotlib.pyplot as plt\n",
        "# Histogramme\n",
        "df[\"Score\"].plot(kind=\"hist\", bins=5, title=\"Distribution des Scores\")\n",
        "plt.show()"
      ],
      "metadata": {
        "colab": {
          "base_uri": "https://localhost:8080/",
          "height": 452
        },
        "id": "D1vvg0RRXz8T",
        "outputId": "f5f4edf6-c360-4548-e726-1b35d191da7c"
      },
      "execution_count": 61,
      "outputs": [
        {
          "output_type": "display_data",
          "data": {
            "text/plain": [
              "<Figure size 640x480 with 1 Axes>"
            ],
            "image/png": "[encoded data removed]"
          },
          "metadata": {}
        }
      ]
    },
    {
      "cell_type": "code",
      "source": [
        "# Graphique linéaire\n",
        "df.plot(x=\"Nom\", y=\"Score\", kind=\"line\", title=\"Scores par Nom\")\n",
        "plt.show()"
      ],
      "metadata": {
        "colab": {
          "base_uri": "https://localhost:8080/",
          "height": 472
        },
        "id": "tf93vGo6YCr1",
        "outputId": "e65cb463-0261-4c1b-cf84-f4c522d78792"
      },
      "execution_count": 62,
      "outputs": [
        {
          "output_type": "display_data",
          "data": {
            "text/plain": [
              "<Figure size 640x480 with 1 Axes>"
            ],
            "image/png": "[encoded data removed]"
          },
          "metadata": {}
        }
      ]
    }
  ]
}