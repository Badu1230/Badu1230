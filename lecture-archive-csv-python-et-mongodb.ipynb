{
 "cells": [
  {
   "cell_type": "code",
   "execution_count": 1,
   "id": "12f9e152",
   "metadata": {
    "_cell_guid": "b1076dfc-b9ad-4769-8c92-a6c4dae69d19",
    "_uuid": "8f2839f25d086af736a60e9eeb907d3b93b6e0e5",
    "execution": {
     "iopub.execute_input": "2024-05-09T05:23:42.094581Z",
     "iopub.status.busy": "2024-05-09T05:23:42.093776Z",
     "iopub.status.idle": "2024-05-09T05:23:42.123490Z",
     "shell.execute_reply": "2024-05-09T05:23:42.122179Z"
    },
    "papermill": {
     "duration": 0.037699,
     "end_time": "2024-05-09T05:23:42.125991",
     "exception": false,
     "start_time": "2024-05-09T05:23:42.088292",
     "status": "completed"
    },
    "tags": []
   },
   "outputs": [
    {
     "name": "stdout",
     "output_type": "stream",
     "text": [
      "Bienvenue ! Début du chargement...\n",
      "Chargement terminé. Nombre de lignes chargées : 164\n"
     ]
    }
   ],
   "source": [
    "# Importer le module csv\n",
    "import csv\n",
    "\n",
    "# Message de bienvenue\n",
    "print(\"Bienvenue ! Début du chargement...\")\n",
    "\n",
    "# Chemin vers le fichier source CSV\n",
    "fichier_source = \"/kaggle/input/integration-de-bd-avec-python-et-mongodb/stadiums_20150302.csv\"\n",
    "\n",
    "# Chemin vers le fichier de destination CSV\n",
    "fichier_destination = \"data_transforme.csv\"\n",
    "\n",
    "# Liste pour stocker les lignes transformées\n",
    "lignes_transformees = []\n",
    "\n",
    "# Ouvrir le fichier source en mode lecture\n",
    "with open(fichier_source, 'r') as csv_file:\n",
    "    # Créer un objet lecteur CSV\n",
    "    lecteur_csv = csv.DictReader(csv_file)\n",
    "\n",
    "    # Parcourir chaque ligne du fichier source\n",
    "    for ligne in lecteur_csv:\n",
    "        # Créer un dictionnaire pour stocker les champs requis\n",
    "        ligne_transformee = {\n",
    "            'Team': ligne['Team'],\n",
    "            'City': ligne['City'],\n",
    "            'Stadium': ligne['Stadium'],\n",
    "            'Capacity': ligne['Capacity'],\n",
    "            'Country': ligne['Country']\n",
    "        }\n",
    "        # Ajouter la ligne transformée à la liste\n",
    "        lignes_transformees.append(ligne_transformee)\n",
    "\n",
    "# Écrire les lignes transformées dans le fichier de destination\n",
    "with open(fichier_destination, 'w', newline='') as csv_file:\n",
    "    # Créer un objet écrivain CSV\n",
    "    champs = ['Team', 'City', 'Stadium', 'Capacity', 'Country']\n",
    "    ecrivain_csv = csv.DictWriter(csv_file, fieldnames=champs)\n",
    "\n",
    "    # Écrire l'en-tête dans le fichier de destination\n",
    "    ecrivain_csv.writeheader()\n",
    "\n",
    "    # Écrire les lignes transformées dans le fichier de destination\n",
    "    ecrivain_csv.writerows(lignes_transformees)\n",
    "\n",
    "# Afficher le nombre de lignes chargées\n",
    "nombre_lignes = len(lignes_transformees)\n",
    "print(f\"Chargement terminé. Nombre de lignes chargées : {nombre_lignes}\")"
   ]
  },
  {
   "cell_type": "code",
   "execution_count": 2,
   "id": "f9930e4b",
   "metadata": {
    "execution": {
     "iopub.execute_input": "2024-05-09T05:23:42.133975Z",
     "iopub.status.busy": "2024-05-09T05:23:42.133594Z",
     "iopub.status.idle": "2024-05-09T05:23:42.146956Z",
     "shell.execute_reply": "2024-05-09T05:23:42.145705Z"
    },
    "papermill": {
     "duration": 0.020408,
     "end_time": "2024-05-09T05:23:42.149629",
     "exception": false,
     "start_time": "2024-05-09T05:23:42.129221",
     "status": "completed"
    },
    "tags": []
   },
   "outputs": [
    {
     "name": "stdout",
     "output_type": "stream",
     "text": [
      "Données chargées dans la table STADES de la base de données SQLite.\n"
     ]
    }
   ],
   "source": [
    "import csv\n",
    "import sqlite3\n",
    "\n",
    "# Chemin absolu vers le fichier CSV\n",
    "chemin_csv = \"/kaggle/input/integration-de-bd-avec-python-et-mongodb/stadiums_20150302.csv\"\n",
    "\n",
    "# Connexion à la base de données SQLite\n",
    "connexion = sqlite3.connect(\":memory:\")  # Utilisez ':memory:' pour une base de données en mémoire\n",
    "cur = connexion.cursor()\n",
    "\n",
    "# Création de la table STADES\n",
    "cur.execute('''CREATE TABLE IF NOT EXISTS STADES (\n",
    "                    Equipe TEXT,\n",
    "                    Ville TEXT,\n",
    "                    Stade TEXT,\n",
    "                    Capacite INTEGER,\n",
    "                    Pays TEXT\n",
    "                )''')\n",
    "\n",
    "# Lecture du fichier CSV et insertion des données dans la table STADES\n",
    "with open(chemin_csv, newline='', encoding='utf-8') as fichier_csv:\n",
    "    lecteur_csv = csv.DictReader(fichier_csv)\n",
    "    for ligne in lecteur_csv:\n",
    "        equipe = ligne['Team']\n",
    "        ville = ligne['City']\n",
    "        stade = ligne['Stadium']\n",
    "        capacite = int(ligne['Capacity'])\n",
    "        pays = ligne['Country']\n",
    "        \n",
    "        # Insertion des données dans la table STADES\n",
    "        cur.execute(\"INSERT INTO STADES VALUES (?, ?, ?, ?, ?)\", (equipe, ville, stade, capacite, pays))\n",
    "\n",
    "# Validation des changements et fermeture de la connexion\n",
    "connexion.commit()\n",
    "connexion.close()\n",
    "\n",
    "print(\"Données chargées dans la table STADES de la base de données SQLite.\")\n"
   ]
  },
  {
   "cell_type": "code",
   "execution_count": 3,
   "id": "4653ba68",
   "metadata": {
    "execution": {
     "iopub.execute_input": "2024-05-09T05:23:42.157775Z",
     "iopub.status.busy": "2024-05-09T05:23:42.157353Z",
     "iopub.status.idle": "2024-05-09T05:23:42.170838Z",
     "shell.execute_reply": "2024-05-09T05:23:42.169165Z"
    },
    "papermill": {
     "duration": 0.020493,
     "end_time": "2024-05-09T05:23:42.173429",
     "exception": false,
     "start_time": "2024-05-09T05:23:42.152936",
     "status": "completed"
    },
    "tags": []
   },
   "outputs": [
    {
     "name": "stdout",
     "output_type": "stream",
     "text": [
      "Données chargées dans la table STADES de la base de données SQLite.\n"
     ]
    }
   ],
   "source": [
    "import csv\n",
    "import sqlite3\n",
    "\n",
    "# Chemin absolu vers le fichier CSV\n",
    "chemin_csv = \"/kaggle/input/integration-de-bd-avec-python-et-mongodb/stadiums_20150302.csv\"\n",
    "\n",
    "# Connexion à la base de données SQLite\n",
    "connexion = sqlite3.connect(\":memory:\")  # Utilisez ':memory:' pour une base de données en mémoire\n",
    "cur = connexion.cursor()\n",
    "\n",
    "# Création de la table STADES\n",
    "cur.execute('''CREATE TABLE IF NOT EXISTS STADES (\n",
    "                    Equipe TEXT,\n",
    "                    Ville TEXT,\n",
    "                    Stade TEXT,\n",
    "                    Capacite INTEGER,\n",
    "                    Pays TEXT\n",
    "                )''')\n",
    "\n",
    "# Lecture du fichier CSV et insertion des données dans la table STADES\n",
    "with open(chemin_csv, newline='', encoding='utf-8') as fichier_csv:\n",
    "    lecteur_csv = csv.DictReader(fichier_csv)\n",
    "    for ligne in lecteur_csv:\n",
    "        equipe = ligne['Team']\n",
    "        ville = ligne['City']\n",
    "        stade = ligne['Stadium']\n",
    "        capacite = int(ligne['Capacity'])\n",
    "        pays = ligne['Country']\n",
    "        \n",
    "        # Insertion des données dans la table STADES\n",
    "        cur.execute(\"INSERT INTO STADES VALUES (?, ?, ?, ?, ?)\", (equipe, ville, stade, capacite, pays))\n",
    "\n",
    "# Validation des changements et fermeture de la connexion\n",
    "connexion.commit()\n",
    "connexion.close()\n",
    "\n",
    "print(\"Données chargées dans la table STADES de la base de données SQLite.\")\n"
   ]
  },
  {
   "cell_type": "code",
   "execution_count": 4,
   "id": "98720183",
   "metadata": {
    "execution": {
     "iopub.execute_input": "2024-05-09T05:23:42.183178Z",
     "iopub.status.busy": "2024-05-09T05:23:42.182327Z",
     "iopub.status.idle": "2024-05-09T05:23:42.218228Z",
     "shell.execute_reply": "2024-05-09T05:23:42.216784Z"
    },
    "papermill": {
     "duration": 0.042897,
     "end_time": "2024-05-09T05:23:42.220699",
     "exception": false,
     "start_time": "2024-05-09T05:23:42.177802",
     "status": "completed"
    },
    "tags": []
   },
   "outputs": [
    {
     "name": "stdout",
     "output_type": "stream",
     "text": [
      "Chargement des données dans la table STADES de la base de données SQLite terminé.\n"
     ]
    }
   ],
   "source": [
    "import csv\n",
    "import sqlite3\n",
    "import os\n",
    "\n",
    "# Chemin absolu vers le fichier CSV\n",
    "chemin_csv = \"/kaggle/input/integration-de-bd-avec-python-et-mongodb/stadiums_20150302.csv\"\n",
    "\n",
    "# Connexion à la base de données SQLite\n",
    "connexion = sqlite3.connect(\"chemin_vers_votre_base_de_donnees.db\")\n",
    "curseur = connexion.cursor()\n",
    "\n",
    "# Création de la table STADES si elle n'existe pas\n",
    "curseur.execute('''CREATE TABLE IF NOT EXISTS STADES (\n",
    "                    Equipe TEXT,\n",
    "                    Ville TEXT,\n",
    "                    Stade TEXT,\n",
    "                    Capacite INTEGER,\n",
    "                    Pays TEXT\n",
    "                )''')\n",
    "\n",
    "# Lecture du fichier CSV et insertion des données dans la table STADES\n",
    "with open(chemin_csv, 'r') as fichier_csv:\n",
    "    lecteur_csv = csv.DictReader(fichier_csv)\n",
    "    for ligne in lecteur_csv:\n",
    "        equipe = ligne['Team']\n",
    "        ville = ligne['City']\n",
    "        stade = ligne['Stadium']\n",
    "        capacite = int(ligne['Capacity'])\n",
    "        pays = ligne['Country']\n",
    "\n",
    "        # Insertion des données dans la table STADES\n",
    "        curseur.execute(\"INSERT INTO STADES VALUES (?, ?, ?, ?, ?)\", (equipe, ville, stade, capacite, pays))\n",
    "\n",
    "# Validation des changements et fermeture de la connexion\n",
    "connexion.commit()\n",
    "connexion.close()\n",
    "\n",
    "print(\"Chargement des données dans la table STADES de la base de données SQLite terminé.\")\n"
   ]
  }
 ],
 "metadata": {
  "kaggle": {
   "accelerator": "none",
   "dataSources": [
    {
     "datasetId": 4925795,
     "sourceId": 8291815,
     "sourceType": "datasetVersion"
    }
   ],
   "dockerImageVersionId": 30698,
   "isGpuEnabled": false,
   "isInternetEnabled": true,
   "language": "python",
   "sourceType": "notebook"
  },
  "kernelspec": {
   "display_name": "Python 3",
   "language": "python",
   "name": "python3"
  },
  "language_info": {
   "codemirror_mode": {
    "name": "ipython",
    "version": 3
   },
   "file_extension": ".py",
   "mimetype": "text/x-python",
   "name": "python",
   "nbconvert_exporter": "python",
   "pygments_lexer": "ipython3",
   "version": "3.10.13"
  },
  "papermill": {
   "default_parameters": {},
   "duration": 3.553359,
   "end_time": "2024-05-09T05:23:42.644230",
   "environment_variables": {},
   "exception": null,
   "input_path": "__notebook__.ipynb",
   "output_path": "__notebook__.ipynb",
   "parameters": {},
   "start_time": "2024-05-09T05:23:39.090871",
   "version": "2.5.0"
  }
 },
 "nbformat": 4,
 "nbformat_minor": 5
}
